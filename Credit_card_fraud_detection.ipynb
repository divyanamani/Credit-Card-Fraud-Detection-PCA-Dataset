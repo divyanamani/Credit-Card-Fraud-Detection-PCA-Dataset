{
 "cells": [
  {
   "cell_type": "markdown",
   "metadata": {
    "id": "xKqoYlrLM3H4"
   },
   "source": [
    "## Credit Card Fraud Detection\n",
    "\n",
    "This case study aims to build efficient machine learning model that helps banks to predict the fraudulent transactions from a given dataset.To achieve this,efficient techniques will be used to perform data transformations to nullify any inherent skewness and biases,various binary classification models will be built and will be weighed by the performance and best one will be recommended."
   ]
  },
  {
   "cell_type": "markdown",
   "metadata": {
    "id": "9gd9CC76M3IH"
   },
   "source": [
    "### Importing the Libraries"
   ]
  },
  {
   "cell_type": "code",
   "execution_count": 1,
   "metadata": {
    "colab": {
     "base_uri": "https://localhost:8080/"
    },
    "id": "87lz6zU7M3IJ",
    "outputId": "d9f25e92-853b-4dbf-a126-2a57b6e1b33f",
    "scrolled": false
   },
   "outputs": [
    {
     "name": "stderr",
     "output_type": "stream",
     "text": [
      "/usr/local/lib/python3.6/dist-packages/statsmodels/tools/_testing.py:19: FutureWarning: pandas.util.testing is deprecated. Use the functions in the public API at pandas.testing instead.\n",
      "  import pandas.util.testing as tm\n",
      "/usr/local/lib/python3.6/dist-packages/sklearn/externals/six.py:31: FutureWarning: The module is deprecated in version 0.21 and will be removed in version 0.23 since we've dropped support for Python 2.7. Please rely on the official version of six (https://pypi.org/project/six/).\n",
      "  \"(https://pypi.org/project/six/).\", FutureWarning)\n",
      "/usr/local/lib/python3.6/dist-packages/sklearn/utils/deprecation.py:144: FutureWarning: The sklearn.neighbors.base module is  deprecated in version 0.22 and will be removed in version 0.24. The corresponding classes / functions should instead be imported from sklearn.neighbors. Anything that cannot be imported from sklearn.neighbors is now part of the private API.\n",
      "  warnings.warn(message, FutureWarning)\n"
     ]
    },
    {
     "name": "stdout",
     "output_type": "stream",
     "text": [
      "0.4.3\n"
     ]
    }
   ],
   "source": [
    "import numpy as np\n",
    "import pandas as pd\n",
    "\n",
    "import matplotlib.pyplot as plt\n",
    "%matplotlib inline\n",
    "import seaborn as sns\n",
    "from sklearn.model_selection import train_test_split\n",
    "\n",
    "from sklearn import metrics\n",
    "from sklearn import preprocessing\n",
    "import statsmodels.api as sm\n",
    "from statsmodels.stats.outliers_influence import variance_inflation_factor\n",
    "pd.set_option('display.max_columns',None)\n",
    "pd.set_option('display.max_rows',None)\n",
    "from sklearn.preprocessing import StandardScaler\n",
    "from sklearn.model_selection import train_test_split\n",
    "from imblearn.under_sampling import RandomUnderSampler\n",
    "import imblearn\n",
    "from imblearn.over_sampling import SMOTE\n",
    "print(imblearn.__version__)\n",
    "\n",
    "import warnings\n",
    "from sklearn.neighbors import KNeighborsClassifier\n",
    "from sklearn.linear_model import LogisticRegression\n",
    "from sklearn.linear_model import LogisticRegression\n",
    "from sklearn.svm import SVC\n",
    "from sklearn.ensemble import RandomForestClassifier\n",
    "\n",
    "from sklearn.model_selection import KFold\n",
    "from sklearn.model_selection import cross_val_score\n",
    "from sklearn.metrics import roc_auc_score \n",
    "from sklearn.model_selection import GridSearchCV\n",
    "from sklearn.pipeline import Pipeline\n",
    "from sklearn import metrics\n",
    "from sklearn.model_selection import StratifiedKFold\n",
    "\n",
    "warnings.filterwarnings('ignore')"
   ]
  },
  {
   "cell_type": "markdown",
   "metadata": {
    "id": "4_6ThmQIM3IS"
   },
   "source": [
    "### Loading the data"
   ]
  },
  {
   "cell_type": "code",
   "execution_count": 2,
   "metadata": {
    "colab": {
     "base_uri": "https://localhost:8080/",
     "height": 217
    },
    "id": "zYiat06BM3IU",
    "outputId": "8f581505-da28-4641-f1a6-efb00b800899"
   },
   "outputs": [
    {
     "data": {
      "text/html": [
       "<div>\n",
       "<style scoped>\n",
       "    .dataframe tbody tr th:only-of-type {\n",
       "        vertical-align: middle;\n",
       "    }\n",
       "\n",
       "    .dataframe tbody tr th {\n",
       "        vertical-align: top;\n",
       "    }\n",
       "\n",
       "    .dataframe thead th {\n",
       "        text-align: right;\n",
       "    }\n",
       "</style>\n",
       "<table border=\"1\" class=\"dataframe\">\n",
       "  <thead>\n",
       "    <tr style=\"text-align: right;\">\n",
       "      <th></th>\n",
       "      <th>Time</th>\n",
       "      <th>V1</th>\n",
       "      <th>V2</th>\n",
       "      <th>V3</th>\n",
       "      <th>V4</th>\n",
       "      <th>V5</th>\n",
       "      <th>V6</th>\n",
       "      <th>V7</th>\n",
       "      <th>V8</th>\n",
       "      <th>V9</th>\n",
       "      <th>V10</th>\n",
       "      <th>V11</th>\n",
       "      <th>V12</th>\n",
       "      <th>V13</th>\n",
       "      <th>V14</th>\n",
       "      <th>V15</th>\n",
       "      <th>V16</th>\n",
       "      <th>V17</th>\n",
       "      <th>V18</th>\n",
       "      <th>V19</th>\n",
       "      <th>V20</th>\n",
       "      <th>V21</th>\n",
       "      <th>V22</th>\n",
       "      <th>V23</th>\n",
       "      <th>V24</th>\n",
       "      <th>V25</th>\n",
       "      <th>V26</th>\n",
       "      <th>V27</th>\n",
       "      <th>V28</th>\n",
       "      <th>Amount</th>\n",
       "      <th>Class</th>\n",
       "    </tr>\n",
       "  </thead>\n",
       "  <tbody>\n",
       "    <tr>\n",
       "      <th>0</th>\n",
       "      <td>0.0</td>\n",
       "      <td>-1.359807</td>\n",
       "      <td>-0.072781</td>\n",
       "      <td>2.536347</td>\n",
       "      <td>1.378155</td>\n",
       "      <td>-0.338321</td>\n",
       "      <td>0.462388</td>\n",
       "      <td>0.239599</td>\n",
       "      <td>0.098698</td>\n",
       "      <td>0.363787</td>\n",
       "      <td>0.090794</td>\n",
       "      <td>-0.551600</td>\n",
       "      <td>-0.617801</td>\n",
       "      <td>-0.991390</td>\n",
       "      <td>-0.311169</td>\n",
       "      <td>1.468177</td>\n",
       "      <td>-0.470401</td>\n",
       "      <td>0.207971</td>\n",
       "      <td>0.025791</td>\n",
       "      <td>0.403993</td>\n",
       "      <td>0.251412</td>\n",
       "      <td>-0.018307</td>\n",
       "      <td>0.277838</td>\n",
       "      <td>-0.110474</td>\n",
       "      <td>0.066928</td>\n",
       "      <td>0.128539</td>\n",
       "      <td>-0.189115</td>\n",
       "      <td>0.133558</td>\n",
       "      <td>-0.021053</td>\n",
       "      <td>149.62</td>\n",
       "      <td>0</td>\n",
       "    </tr>\n",
       "    <tr>\n",
       "      <th>1</th>\n",
       "      <td>0.0</td>\n",
       "      <td>1.191857</td>\n",
       "      <td>0.266151</td>\n",
       "      <td>0.166480</td>\n",
       "      <td>0.448154</td>\n",
       "      <td>0.060018</td>\n",
       "      <td>-0.082361</td>\n",
       "      <td>-0.078803</td>\n",
       "      <td>0.085102</td>\n",
       "      <td>-0.255425</td>\n",
       "      <td>-0.166974</td>\n",
       "      <td>1.612727</td>\n",
       "      <td>1.065235</td>\n",
       "      <td>0.489095</td>\n",
       "      <td>-0.143772</td>\n",
       "      <td>0.635558</td>\n",
       "      <td>0.463917</td>\n",
       "      <td>-0.114805</td>\n",
       "      <td>-0.183361</td>\n",
       "      <td>-0.145783</td>\n",
       "      <td>-0.069083</td>\n",
       "      <td>-0.225775</td>\n",
       "      <td>-0.638672</td>\n",
       "      <td>0.101288</td>\n",
       "      <td>-0.339846</td>\n",
       "      <td>0.167170</td>\n",
       "      <td>0.125895</td>\n",
       "      <td>-0.008983</td>\n",
       "      <td>0.014724</td>\n",
       "      <td>2.69</td>\n",
       "      <td>0</td>\n",
       "    </tr>\n",
       "    <tr>\n",
       "      <th>2</th>\n",
       "      <td>1.0</td>\n",
       "      <td>-1.358354</td>\n",
       "      <td>-1.340163</td>\n",
       "      <td>1.773209</td>\n",
       "      <td>0.379780</td>\n",
       "      <td>-0.503198</td>\n",
       "      <td>1.800499</td>\n",
       "      <td>0.791461</td>\n",
       "      <td>0.247676</td>\n",
       "      <td>-1.514654</td>\n",
       "      <td>0.207643</td>\n",
       "      <td>0.624501</td>\n",
       "      <td>0.066084</td>\n",
       "      <td>0.717293</td>\n",
       "      <td>-0.165946</td>\n",
       "      <td>2.345865</td>\n",
       "      <td>-2.890083</td>\n",
       "      <td>1.109969</td>\n",
       "      <td>-0.121359</td>\n",
       "      <td>-2.261857</td>\n",
       "      <td>0.524980</td>\n",
       "      <td>0.247998</td>\n",
       "      <td>0.771679</td>\n",
       "      <td>0.909412</td>\n",
       "      <td>-0.689281</td>\n",
       "      <td>-0.327642</td>\n",
       "      <td>-0.139097</td>\n",
       "      <td>-0.055353</td>\n",
       "      <td>-0.059752</td>\n",
       "      <td>378.66</td>\n",
       "      <td>0</td>\n",
       "    </tr>\n",
       "    <tr>\n",
       "      <th>3</th>\n",
       "      <td>1.0</td>\n",
       "      <td>-0.966272</td>\n",
       "      <td>-0.185226</td>\n",
       "      <td>1.792993</td>\n",
       "      <td>-0.863291</td>\n",
       "      <td>-0.010309</td>\n",
       "      <td>1.247203</td>\n",
       "      <td>0.237609</td>\n",
       "      <td>0.377436</td>\n",
       "      <td>-1.387024</td>\n",
       "      <td>-0.054952</td>\n",
       "      <td>-0.226487</td>\n",
       "      <td>0.178228</td>\n",
       "      <td>0.507757</td>\n",
       "      <td>-0.287924</td>\n",
       "      <td>-0.631418</td>\n",
       "      <td>-1.059647</td>\n",
       "      <td>-0.684093</td>\n",
       "      <td>1.965775</td>\n",
       "      <td>-1.232622</td>\n",
       "      <td>-0.208038</td>\n",
       "      <td>-0.108300</td>\n",
       "      <td>0.005274</td>\n",
       "      <td>-0.190321</td>\n",
       "      <td>-1.175575</td>\n",
       "      <td>0.647376</td>\n",
       "      <td>-0.221929</td>\n",
       "      <td>0.062723</td>\n",
       "      <td>0.061458</td>\n",
       "      <td>123.50</td>\n",
       "      <td>0</td>\n",
       "    </tr>\n",
       "    <tr>\n",
       "      <th>4</th>\n",
       "      <td>2.0</td>\n",
       "      <td>-1.158233</td>\n",
       "      <td>0.877737</td>\n",
       "      <td>1.548718</td>\n",
       "      <td>0.403034</td>\n",
       "      <td>-0.407193</td>\n",
       "      <td>0.095921</td>\n",
       "      <td>0.592941</td>\n",
       "      <td>-0.270533</td>\n",
       "      <td>0.817739</td>\n",
       "      <td>0.753074</td>\n",
       "      <td>-0.822843</td>\n",
       "      <td>0.538196</td>\n",
       "      <td>1.345852</td>\n",
       "      <td>-1.119670</td>\n",
       "      <td>0.175121</td>\n",
       "      <td>-0.451449</td>\n",
       "      <td>-0.237033</td>\n",
       "      <td>-0.038195</td>\n",
       "      <td>0.803487</td>\n",
       "      <td>0.408542</td>\n",
       "      <td>-0.009431</td>\n",
       "      <td>0.798278</td>\n",
       "      <td>-0.137458</td>\n",
       "      <td>0.141267</td>\n",
       "      <td>-0.206010</td>\n",
       "      <td>0.502292</td>\n",
       "      <td>0.219422</td>\n",
       "      <td>0.215153</td>\n",
       "      <td>69.99</td>\n",
       "      <td>0</td>\n",
       "    </tr>\n",
       "  </tbody>\n",
       "</table>\n",
       "</div>"
      ],
      "text/plain": [
       "   Time        V1        V2        V3        V4        V5        V6        V7  \\\n",
       "0   0.0 -1.359807 -0.072781  2.536347  1.378155 -0.338321  0.462388  0.239599   \n",
       "1   0.0  1.191857  0.266151  0.166480  0.448154  0.060018 -0.082361 -0.078803   \n",
       "2   1.0 -1.358354 -1.340163  1.773209  0.379780 -0.503198  1.800499  0.791461   \n",
       "3   1.0 -0.966272 -0.185226  1.792993 -0.863291 -0.010309  1.247203  0.237609   \n",
       "4   2.0 -1.158233  0.877737  1.548718  0.403034 -0.407193  0.095921  0.592941   \n",
       "\n",
       "         V8        V9       V10       V11       V12       V13       V14  \\\n",
       "0  0.098698  0.363787  0.090794 -0.551600 -0.617801 -0.991390 -0.311169   \n",
       "1  0.085102 -0.255425 -0.166974  1.612727  1.065235  0.489095 -0.143772   \n",
       "2  0.247676 -1.514654  0.207643  0.624501  0.066084  0.717293 -0.165946   \n",
       "3  0.377436 -1.387024 -0.054952 -0.226487  0.178228  0.507757 -0.287924   \n",
       "4 -0.270533  0.817739  0.753074 -0.822843  0.538196  1.345852 -1.119670   \n",
       "\n",
       "        V15       V16       V17       V18       V19       V20       V21  \\\n",
       "0  1.468177 -0.470401  0.207971  0.025791  0.403993  0.251412 -0.018307   \n",
       "1  0.635558  0.463917 -0.114805 -0.183361 -0.145783 -0.069083 -0.225775   \n",
       "2  2.345865 -2.890083  1.109969 -0.121359 -2.261857  0.524980  0.247998   \n",
       "3 -0.631418 -1.059647 -0.684093  1.965775 -1.232622 -0.208038 -0.108300   \n",
       "4  0.175121 -0.451449 -0.237033 -0.038195  0.803487  0.408542 -0.009431   \n",
       "\n",
       "        V22       V23       V24       V25       V26       V27       V28  \\\n",
       "0  0.277838 -0.110474  0.066928  0.128539 -0.189115  0.133558 -0.021053   \n",
       "1 -0.638672  0.101288 -0.339846  0.167170  0.125895 -0.008983  0.014724   \n",
       "2  0.771679  0.909412 -0.689281 -0.327642 -0.139097 -0.055353 -0.059752   \n",
       "3  0.005274 -0.190321 -1.175575  0.647376 -0.221929  0.062723  0.061458   \n",
       "4  0.798278 -0.137458  0.141267 -0.206010  0.502292  0.219422  0.215153   \n",
       "\n",
       "   Amount  Class  \n",
       "0  149.62      0  \n",
       "1    2.69      0  \n",
       "2  378.66      0  \n",
       "3  123.50      0  \n",
       "4   69.99      0  "
      ]
     },
     "execution_count": 2,
     "metadata": {
      "tags": []
     },
     "output_type": "execute_result"
    }
   ],
   "source": [
    "df = pd.read_csv('creditcard.csv')\n",
    "df.head()"
   ]
  },
  {
   "cell_type": "markdown",
   "metadata": {
    "id": "GUpIxzhtM3Id"
   },
   "source": [
    "## Exploratory data analysis"
   ]
  },
  {
   "cell_type": "code",
   "execution_count": 3,
   "metadata": {
    "colab": {
     "base_uri": "https://localhost:8080/"
    },
    "id": "uf9TD_kKM3Ig",
    "outputId": "4f93949d-88bc-4f28-f058-c612e200da33"
   },
   "outputs": [
    {
     "name": "stdout",
     "output_type": "stream",
     "text": [
      "<class 'pandas.core.frame.DataFrame'>\n",
      "RangeIndex: 284807 entries, 0 to 284806\n",
      "Data columns (total 31 columns):\n",
      " #   Column  Non-Null Count   Dtype  \n",
      "---  ------  --------------   -----  \n",
      " 0   Time    284807 non-null  float64\n",
      " 1   V1      284807 non-null  float64\n",
      " 2   V2      284807 non-null  float64\n",
      " 3   V3      284807 non-null  float64\n",
      " 4   V4      284807 non-null  float64\n",
      " 5   V5      284807 non-null  float64\n",
      " 6   V6      284807 non-null  float64\n",
      " 7   V7      284807 non-null  float64\n",
      " 8   V8      284807 non-null  float64\n",
      " 9   V9      284807 non-null  float64\n",
      " 10  V10     284807 non-null  float64\n",
      " 11  V11     284807 non-null  float64\n",
      " 12  V12     284807 non-null  float64\n",
      " 13  V13     284807 non-null  float64\n",
      " 14  V14     284807 non-null  float64\n",
      " 15  V15     284807 non-null  float64\n",
      " 16  V16     284807 non-null  float64\n",
      " 17  V17     284807 non-null  float64\n",
      " 18  V18     284807 non-null  float64\n",
      " 19  V19     284807 non-null  float64\n",
      " 20  V20     284807 non-null  float64\n",
      " 21  V21     284807 non-null  float64\n",
      " 22  V22     284807 non-null  float64\n",
      " 23  V23     284807 non-null  float64\n",
      " 24  V24     284807 non-null  float64\n",
      " 25  V25     284807 non-null  float64\n",
      " 26  V26     284807 non-null  float64\n",
      " 27  V27     284807 non-null  float64\n",
      " 28  V28     284807 non-null  float64\n",
      " 29  Amount  284807 non-null  float64\n",
      " 30  Class   284807 non-null  int64  \n",
      "dtypes: float64(30), int64(1)\n",
      "memory usage: 67.4 MB\n"
     ]
    }
   ],
   "source": [
    "#observe the different feature type present in the data\n",
    "\n",
    "df.info()"
   ]
  },
  {
   "cell_type": "code",
   "execution_count": 4,
   "metadata": {
    "colab": {
     "base_uri": "https://localhost:8080/"
    },
    "id": "YlFI6fl9M3Iq",
    "outputId": "18f848a7-37d9-4c78-ab78-84e648e5b95b"
   },
   "outputs": [
    {
     "data": {
      "text/plain": [
       "(284807, 31)"
      ]
     },
     "execution_count": 4,
     "metadata": {
      "tags": []
     },
     "output_type": "execute_result"
    }
   ],
   "source": [
    "df.shape"
   ]
  },
  {
   "cell_type": "code",
   "execution_count": 5,
   "metadata": {
    "colab": {
     "base_uri": "https://localhost:8080/",
     "height": 977
    },
    "id": "VKxcBFVjM3Iz",
    "outputId": "86335ed9-36e0-47d2-83a8-4d41eb358543"
   },
   "outputs": [
    {
     "data": {
      "text/html": [
       "<div>\n",
       "<style scoped>\n",
       "    .dataframe tbody tr th:only-of-type {\n",
       "        vertical-align: middle;\n",
       "    }\n",
       "\n",
       "    .dataframe tbody tr th {\n",
       "        vertical-align: top;\n",
       "    }\n",
       "\n",
       "    .dataframe thead th {\n",
       "        text-align: right;\n",
       "    }\n",
       "</style>\n",
       "<table border=\"1\" class=\"dataframe\">\n",
       "  <thead>\n",
       "    <tr style=\"text-align: right;\">\n",
       "      <th></th>\n",
       "      <th>count</th>\n",
       "      <th>mean</th>\n",
       "      <th>std</th>\n",
       "      <th>min</th>\n",
       "      <th>25%</th>\n",
       "      <th>50%</th>\n",
       "      <th>75%</th>\n",
       "      <th>max</th>\n",
       "    </tr>\n",
       "  </thead>\n",
       "  <tbody>\n",
       "    <tr>\n",
       "      <th>Time</th>\n",
       "      <td>284807.0</td>\n",
       "      <td>9.481386e+04</td>\n",
       "      <td>47488.145955</td>\n",
       "      <td>0.000000</td>\n",
       "      <td>54201.500000</td>\n",
       "      <td>84692.000000</td>\n",
       "      <td>139320.500000</td>\n",
       "      <td>172792.000000</td>\n",
       "    </tr>\n",
       "    <tr>\n",
       "      <th>V1</th>\n",
       "      <td>284807.0</td>\n",
       "      <td>3.919560e-15</td>\n",
       "      <td>1.958696</td>\n",
       "      <td>-56.407510</td>\n",
       "      <td>-0.920373</td>\n",
       "      <td>0.018109</td>\n",
       "      <td>1.315642</td>\n",
       "      <td>2.454930</td>\n",
       "    </tr>\n",
       "    <tr>\n",
       "      <th>V2</th>\n",
       "      <td>284807.0</td>\n",
       "      <td>5.688174e-16</td>\n",
       "      <td>1.651309</td>\n",
       "      <td>-72.715728</td>\n",
       "      <td>-0.598550</td>\n",
       "      <td>0.065486</td>\n",
       "      <td>0.803724</td>\n",
       "      <td>22.057729</td>\n",
       "    </tr>\n",
       "    <tr>\n",
       "      <th>V3</th>\n",
       "      <td>284807.0</td>\n",
       "      <td>-8.769071e-15</td>\n",
       "      <td>1.516255</td>\n",
       "      <td>-48.325589</td>\n",
       "      <td>-0.890365</td>\n",
       "      <td>0.179846</td>\n",
       "      <td>1.027196</td>\n",
       "      <td>9.382558</td>\n",
       "    </tr>\n",
       "    <tr>\n",
       "      <th>V4</th>\n",
       "      <td>284807.0</td>\n",
       "      <td>2.782312e-15</td>\n",
       "      <td>1.415869</td>\n",
       "      <td>-5.683171</td>\n",
       "      <td>-0.848640</td>\n",
       "      <td>-0.019847</td>\n",
       "      <td>0.743341</td>\n",
       "      <td>16.875344</td>\n",
       "    </tr>\n",
       "    <tr>\n",
       "      <th>V5</th>\n",
       "      <td>284807.0</td>\n",
       "      <td>-1.552563e-15</td>\n",
       "      <td>1.380247</td>\n",
       "      <td>-113.743307</td>\n",
       "      <td>-0.691597</td>\n",
       "      <td>-0.054336</td>\n",
       "      <td>0.611926</td>\n",
       "      <td>34.801666</td>\n",
       "    </tr>\n",
       "    <tr>\n",
       "      <th>V6</th>\n",
       "      <td>284807.0</td>\n",
       "      <td>2.010663e-15</td>\n",
       "      <td>1.332271</td>\n",
       "      <td>-26.160506</td>\n",
       "      <td>-0.768296</td>\n",
       "      <td>-0.274187</td>\n",
       "      <td>0.398565</td>\n",
       "      <td>73.301626</td>\n",
       "    </tr>\n",
       "    <tr>\n",
       "      <th>V7</th>\n",
       "      <td>284807.0</td>\n",
       "      <td>-1.694249e-15</td>\n",
       "      <td>1.237094</td>\n",
       "      <td>-43.557242</td>\n",
       "      <td>-0.554076</td>\n",
       "      <td>0.040103</td>\n",
       "      <td>0.570436</td>\n",
       "      <td>120.589494</td>\n",
       "    </tr>\n",
       "    <tr>\n",
       "      <th>V8</th>\n",
       "      <td>284807.0</td>\n",
       "      <td>-1.927028e-16</td>\n",
       "      <td>1.194353</td>\n",
       "      <td>-73.216718</td>\n",
       "      <td>-0.208630</td>\n",
       "      <td>0.022358</td>\n",
       "      <td>0.327346</td>\n",
       "      <td>20.007208</td>\n",
       "    </tr>\n",
       "    <tr>\n",
       "      <th>V9</th>\n",
       "      <td>284807.0</td>\n",
       "      <td>-3.137024e-15</td>\n",
       "      <td>1.098632</td>\n",
       "      <td>-13.434066</td>\n",
       "      <td>-0.643098</td>\n",
       "      <td>-0.051429</td>\n",
       "      <td>0.597139</td>\n",
       "      <td>15.594995</td>\n",
       "    </tr>\n",
       "    <tr>\n",
       "      <th>V10</th>\n",
       "      <td>284807.0</td>\n",
       "      <td>1.768627e-15</td>\n",
       "      <td>1.088850</td>\n",
       "      <td>-24.588262</td>\n",
       "      <td>-0.535426</td>\n",
       "      <td>-0.092917</td>\n",
       "      <td>0.453923</td>\n",
       "      <td>23.745136</td>\n",
       "    </tr>\n",
       "    <tr>\n",
       "      <th>V11</th>\n",
       "      <td>284807.0</td>\n",
       "      <td>9.170318e-16</td>\n",
       "      <td>1.020713</td>\n",
       "      <td>-4.797473</td>\n",
       "      <td>-0.762494</td>\n",
       "      <td>-0.032757</td>\n",
       "      <td>0.739593</td>\n",
       "      <td>12.018913</td>\n",
       "    </tr>\n",
       "    <tr>\n",
       "      <th>V12</th>\n",
       "      <td>284807.0</td>\n",
       "      <td>-1.810658e-15</td>\n",
       "      <td>0.999201</td>\n",
       "      <td>-18.683715</td>\n",
       "      <td>-0.405571</td>\n",
       "      <td>0.140033</td>\n",
       "      <td>0.618238</td>\n",
       "      <td>7.848392</td>\n",
       "    </tr>\n",
       "    <tr>\n",
       "      <th>V13</th>\n",
       "      <td>284807.0</td>\n",
       "      <td>1.693438e-15</td>\n",
       "      <td>0.995274</td>\n",
       "      <td>-5.791881</td>\n",
       "      <td>-0.648539</td>\n",
       "      <td>-0.013568</td>\n",
       "      <td>0.662505</td>\n",
       "      <td>7.126883</td>\n",
       "    </tr>\n",
       "    <tr>\n",
       "      <th>V14</th>\n",
       "      <td>284807.0</td>\n",
       "      <td>1.479045e-15</td>\n",
       "      <td>0.958596</td>\n",
       "      <td>-19.214325</td>\n",
       "      <td>-0.425574</td>\n",
       "      <td>0.050601</td>\n",
       "      <td>0.493150</td>\n",
       "      <td>10.526766</td>\n",
       "    </tr>\n",
       "    <tr>\n",
       "      <th>V15</th>\n",
       "      <td>284807.0</td>\n",
       "      <td>3.482336e-15</td>\n",
       "      <td>0.915316</td>\n",
       "      <td>-4.498945</td>\n",
       "      <td>-0.582884</td>\n",
       "      <td>0.048072</td>\n",
       "      <td>0.648821</td>\n",
       "      <td>8.877742</td>\n",
       "    </tr>\n",
       "    <tr>\n",
       "      <th>V16</th>\n",
       "      <td>284807.0</td>\n",
       "      <td>1.392007e-15</td>\n",
       "      <td>0.876253</td>\n",
       "      <td>-14.129855</td>\n",
       "      <td>-0.468037</td>\n",
       "      <td>0.066413</td>\n",
       "      <td>0.523296</td>\n",
       "      <td>17.315112</td>\n",
       "    </tr>\n",
       "    <tr>\n",
       "      <th>V17</th>\n",
       "      <td>284807.0</td>\n",
       "      <td>-7.528491e-16</td>\n",
       "      <td>0.849337</td>\n",
       "      <td>-25.162799</td>\n",
       "      <td>-0.483748</td>\n",
       "      <td>-0.065676</td>\n",
       "      <td>0.399675</td>\n",
       "      <td>9.253526</td>\n",
       "    </tr>\n",
       "    <tr>\n",
       "      <th>V18</th>\n",
       "      <td>284807.0</td>\n",
       "      <td>4.328772e-16</td>\n",
       "      <td>0.838176</td>\n",
       "      <td>-9.498746</td>\n",
       "      <td>-0.498850</td>\n",
       "      <td>-0.003636</td>\n",
       "      <td>0.500807</td>\n",
       "      <td>5.041069</td>\n",
       "    </tr>\n",
       "    <tr>\n",
       "      <th>V19</th>\n",
       "      <td>284807.0</td>\n",
       "      <td>9.049732e-16</td>\n",
       "      <td>0.814041</td>\n",
       "      <td>-7.213527</td>\n",
       "      <td>-0.456299</td>\n",
       "      <td>0.003735</td>\n",
       "      <td>0.458949</td>\n",
       "      <td>5.591971</td>\n",
       "    </tr>\n",
       "    <tr>\n",
       "      <th>V20</th>\n",
       "      <td>284807.0</td>\n",
       "      <td>5.085503e-16</td>\n",
       "      <td>0.770925</td>\n",
       "      <td>-54.497720</td>\n",
       "      <td>-0.211721</td>\n",
       "      <td>-0.062481</td>\n",
       "      <td>0.133041</td>\n",
       "      <td>39.420904</td>\n",
       "    </tr>\n",
       "    <tr>\n",
       "      <th>V21</th>\n",
       "      <td>284807.0</td>\n",
       "      <td>1.537294e-16</td>\n",
       "      <td>0.734524</td>\n",
       "      <td>-34.830382</td>\n",
       "      <td>-0.228395</td>\n",
       "      <td>-0.029450</td>\n",
       "      <td>0.186377</td>\n",
       "      <td>27.202839</td>\n",
       "    </tr>\n",
       "    <tr>\n",
       "      <th>V22</th>\n",
       "      <td>284807.0</td>\n",
       "      <td>7.959909e-16</td>\n",
       "      <td>0.725702</td>\n",
       "      <td>-10.933144</td>\n",
       "      <td>-0.542350</td>\n",
       "      <td>0.006782</td>\n",
       "      <td>0.528554</td>\n",
       "      <td>10.503090</td>\n",
       "    </tr>\n",
       "    <tr>\n",
       "      <th>V23</th>\n",
       "      <td>284807.0</td>\n",
       "      <td>5.367590e-16</td>\n",
       "      <td>0.624460</td>\n",
       "      <td>-44.807735</td>\n",
       "      <td>-0.161846</td>\n",
       "      <td>-0.011193</td>\n",
       "      <td>0.147642</td>\n",
       "      <td>22.528412</td>\n",
       "    </tr>\n",
       "    <tr>\n",
       "      <th>V24</th>\n",
       "      <td>284807.0</td>\n",
       "      <td>4.458112e-15</td>\n",
       "      <td>0.605647</td>\n",
       "      <td>-2.836627</td>\n",
       "      <td>-0.354586</td>\n",
       "      <td>0.040976</td>\n",
       "      <td>0.439527</td>\n",
       "      <td>4.584549</td>\n",
       "    </tr>\n",
       "    <tr>\n",
       "      <th>V25</th>\n",
       "      <td>284807.0</td>\n",
       "      <td>1.453003e-15</td>\n",
       "      <td>0.521278</td>\n",
       "      <td>-10.295397</td>\n",
       "      <td>-0.317145</td>\n",
       "      <td>0.016594</td>\n",
       "      <td>0.350716</td>\n",
       "      <td>7.519589</td>\n",
       "    </tr>\n",
       "    <tr>\n",
       "      <th>V26</th>\n",
       "      <td>284807.0</td>\n",
       "      <td>1.699104e-15</td>\n",
       "      <td>0.482227</td>\n",
       "      <td>-2.604551</td>\n",
       "      <td>-0.326984</td>\n",
       "      <td>-0.052139</td>\n",
       "      <td>0.240952</td>\n",
       "      <td>3.517346</td>\n",
       "    </tr>\n",
       "    <tr>\n",
       "      <th>V27</th>\n",
       "      <td>284807.0</td>\n",
       "      <td>-3.660161e-16</td>\n",
       "      <td>0.403632</td>\n",
       "      <td>-22.565679</td>\n",
       "      <td>-0.070840</td>\n",
       "      <td>0.001342</td>\n",
       "      <td>0.091045</td>\n",
       "      <td>31.612198</td>\n",
       "    </tr>\n",
       "    <tr>\n",
       "      <th>V28</th>\n",
       "      <td>284807.0</td>\n",
       "      <td>-1.206049e-16</td>\n",
       "      <td>0.330083</td>\n",
       "      <td>-15.430084</td>\n",
       "      <td>-0.052960</td>\n",
       "      <td>0.011244</td>\n",
       "      <td>0.078280</td>\n",
       "      <td>33.847808</td>\n",
       "    </tr>\n",
       "    <tr>\n",
       "      <th>Amount</th>\n",
       "      <td>284807.0</td>\n",
       "      <td>8.834962e+01</td>\n",
       "      <td>250.120109</td>\n",
       "      <td>0.000000</td>\n",
       "      <td>5.600000</td>\n",
       "      <td>22.000000</td>\n",
       "      <td>77.165000</td>\n",
       "      <td>25691.160000</td>\n",
       "    </tr>\n",
       "    <tr>\n",
       "      <th>Class</th>\n",
       "      <td>284807.0</td>\n",
       "      <td>1.727486e-03</td>\n",
       "      <td>0.041527</td>\n",
       "      <td>0.000000</td>\n",
       "      <td>0.000000</td>\n",
       "      <td>0.000000</td>\n",
       "      <td>0.000000</td>\n",
       "      <td>1.000000</td>\n",
       "    </tr>\n",
       "  </tbody>\n",
       "</table>\n",
       "</div>"
      ],
      "text/plain": [
       "           count          mean           std         min           25%  \\\n",
       "Time    284807.0  9.481386e+04  47488.145955    0.000000  54201.500000   \n",
       "V1      284807.0  3.919560e-15      1.958696  -56.407510     -0.920373   \n",
       "V2      284807.0  5.688174e-16      1.651309  -72.715728     -0.598550   \n",
       "V3      284807.0 -8.769071e-15      1.516255  -48.325589     -0.890365   \n",
       "V4      284807.0  2.782312e-15      1.415869   -5.683171     -0.848640   \n",
       "V5      284807.0 -1.552563e-15      1.380247 -113.743307     -0.691597   \n",
       "V6      284807.0  2.010663e-15      1.332271  -26.160506     -0.768296   \n",
       "V7      284807.0 -1.694249e-15      1.237094  -43.557242     -0.554076   \n",
       "V8      284807.0 -1.927028e-16      1.194353  -73.216718     -0.208630   \n",
       "V9      284807.0 -3.137024e-15      1.098632  -13.434066     -0.643098   \n",
       "V10     284807.0  1.768627e-15      1.088850  -24.588262     -0.535426   \n",
       "V11     284807.0  9.170318e-16      1.020713   -4.797473     -0.762494   \n",
       "V12     284807.0 -1.810658e-15      0.999201  -18.683715     -0.405571   \n",
       "V13     284807.0  1.693438e-15      0.995274   -5.791881     -0.648539   \n",
       "V14     284807.0  1.479045e-15      0.958596  -19.214325     -0.425574   \n",
       "V15     284807.0  3.482336e-15      0.915316   -4.498945     -0.582884   \n",
       "V16     284807.0  1.392007e-15      0.876253  -14.129855     -0.468037   \n",
       "V17     284807.0 -7.528491e-16      0.849337  -25.162799     -0.483748   \n",
       "V18     284807.0  4.328772e-16      0.838176   -9.498746     -0.498850   \n",
       "V19     284807.0  9.049732e-16      0.814041   -7.213527     -0.456299   \n",
       "V20     284807.0  5.085503e-16      0.770925  -54.497720     -0.211721   \n",
       "V21     284807.0  1.537294e-16      0.734524  -34.830382     -0.228395   \n",
       "V22     284807.0  7.959909e-16      0.725702  -10.933144     -0.542350   \n",
       "V23     284807.0  5.367590e-16      0.624460  -44.807735     -0.161846   \n",
       "V24     284807.0  4.458112e-15      0.605647   -2.836627     -0.354586   \n",
       "V25     284807.0  1.453003e-15      0.521278  -10.295397     -0.317145   \n",
       "V26     284807.0  1.699104e-15      0.482227   -2.604551     -0.326984   \n",
       "V27     284807.0 -3.660161e-16      0.403632  -22.565679     -0.070840   \n",
       "V28     284807.0 -1.206049e-16      0.330083  -15.430084     -0.052960   \n",
       "Amount  284807.0  8.834962e+01    250.120109    0.000000      5.600000   \n",
       "Class   284807.0  1.727486e-03      0.041527    0.000000      0.000000   \n",
       "\n",
       "                 50%            75%            max  \n",
       "Time    84692.000000  139320.500000  172792.000000  \n",
       "V1          0.018109       1.315642       2.454930  \n",
       "V2          0.065486       0.803724      22.057729  \n",
       "V3          0.179846       1.027196       9.382558  \n",
       "V4         -0.019847       0.743341      16.875344  \n",
       "V5         -0.054336       0.611926      34.801666  \n",
       "V6         -0.274187       0.398565      73.301626  \n",
       "V7          0.040103       0.570436     120.589494  \n",
       "V8          0.022358       0.327346      20.007208  \n",
       "V9         -0.051429       0.597139      15.594995  \n",
       "V10        -0.092917       0.453923      23.745136  \n",
       "V11        -0.032757       0.739593      12.018913  \n",
       "V12         0.140033       0.618238       7.848392  \n",
       "V13        -0.013568       0.662505       7.126883  \n",
       "V14         0.050601       0.493150      10.526766  \n",
       "V15         0.048072       0.648821       8.877742  \n",
       "V16         0.066413       0.523296      17.315112  \n",
       "V17        -0.065676       0.399675       9.253526  \n",
       "V18        -0.003636       0.500807       5.041069  \n",
       "V19         0.003735       0.458949       5.591971  \n",
       "V20        -0.062481       0.133041      39.420904  \n",
       "V21        -0.029450       0.186377      27.202839  \n",
       "V22         0.006782       0.528554      10.503090  \n",
       "V23        -0.011193       0.147642      22.528412  \n",
       "V24         0.040976       0.439527       4.584549  \n",
       "V25         0.016594       0.350716       7.519589  \n",
       "V26        -0.052139       0.240952       3.517346  \n",
       "V27         0.001342       0.091045      31.612198  \n",
       "V28         0.011244       0.078280      33.847808  \n",
       "Amount     22.000000      77.165000   25691.160000  \n",
       "Class       0.000000       0.000000       1.000000  "
      ]
     },
     "execution_count": 5,
     "metadata": {
      "tags": []
     },
     "output_type": "execute_result"
    }
   ],
   "source": [
    "df.describe().T"
   ]
  },
  {
   "cell_type": "markdown",
   "metadata": {
    "id": "xtVoWQ-JM3JB"
   },
   "source": [
    "#### Missing Data Analysis"
   ]
  },
  {
   "cell_type": "code",
   "execution_count": 6,
   "metadata": {
    "colab": {
     "base_uri": "https://localhost:8080/"
    },
    "id": "ocTKh_iTM3JD",
    "outputId": "defb8b2a-c4bf-4b31-c6b9-f42155ad480e"
   },
   "outputs": [
    {
     "data": {
      "text/plain": [
       "Time      0.0\n",
       "V1        0.0\n",
       "V2        0.0\n",
       "V3        0.0\n",
       "V4        0.0\n",
       "V5        0.0\n",
       "V6        0.0\n",
       "V7        0.0\n",
       "V8        0.0\n",
       "V9        0.0\n",
       "V10       0.0\n",
       "V11       0.0\n",
       "V12       0.0\n",
       "V13       0.0\n",
       "V14       0.0\n",
       "V15       0.0\n",
       "V16       0.0\n",
       "V17       0.0\n",
       "V18       0.0\n",
       "V19       0.0\n",
       "V20       0.0\n",
       "V21       0.0\n",
       "V22       0.0\n",
       "V23       0.0\n",
       "V24       0.0\n",
       "V25       0.0\n",
       "V26       0.0\n",
       "V27       0.0\n",
       "V28       0.0\n",
       "Amount    0.0\n",
       "Class     0.0\n",
       "dtype: float64"
      ]
     },
     "execution_count": 6,
     "metadata": {
      "tags": []
     },
     "output_type": "execute_result"
    }
   ],
   "source": [
    "round(100*(df.isnull().sum()/len(df.index)),2)"
   ]
  },
  {
   "cell_type": "markdown",
   "metadata": {
    "id": "qBJT2qYOM3JL"
   },
   "source": [
    "**Observations:**<br>\n",
    "\n",
    "There are no missing values in the data."
   ]
  },
  {
   "cell_type": "markdown",
   "metadata": {
    "id": "0OTqyS6iM3JM"
   },
   "source": [
    "**Distribution of the target classes**"
   ]
  },
  {
   "cell_type": "code",
   "execution_count": 7,
   "metadata": {
    "id": "AlQpsuANM3JO"
   },
   "outputs": [],
   "source": [
    "classes=df['Class'].value_counts()\n",
    "normal_share=classes[0]/df['Class'].count()*100\n",
    "fraud_share=classes[1]/df['Class'].count()*100"
   ]
  },
  {
   "cell_type": "code",
   "execution_count": 8,
   "metadata": {
    "id": "arEb-qQzM3JY"
   },
   "outputs": [],
   "source": [
    "nonFraudper = df['Class'].value_counts(normalize=True)[0]\n",
    "Fraudper = df['Class'].value_counts(normalize=True)[1]\n"
   ]
  },
  {
   "cell_type": "code",
   "execution_count": 9,
   "metadata": {
    "colab": {
     "base_uri": "https://localhost:8080/"
    },
    "id": "y_NoKGI5M3Jh",
    "outputId": "d8ceaf48-e891-42ec-821c-65c0664073c4"
   },
   "outputs": [
    {
     "name": "stdout",
     "output_type": "stream",
     "text": [
      "Normal share: 99.82725143693798\n",
      "fraud_share: 0.1727485630620034\n"
     ]
    }
   ],
   "source": [
    "print('Normal share:',normal_share)\n",
    "print('fraud_share:',fraud_share)"
   ]
  },
  {
   "cell_type": "code",
   "execution_count": 10,
   "metadata": {
    "colab": {
     "base_uri": "https://localhost:8080/",
     "height": 296
    },
    "id": "241MUZLFM3Jo",
    "outputId": "e25b3b97-cc3c-4e1e-92aa-bb305f4784e6"
   },
   "outputs": [
    {
     "data": {
      "text/plain": [
       "<matplotlib.axes._subplots.AxesSubplot at 0x7f7bf513f898>"
      ]
     },
     "execution_count": 10,
     "metadata": {
      "tags": []
     },
     "output_type": "execute_result"
    },
    {
     "data": {
      "image/png": "[encoded data removed]",
      "text/plain": [
       "<Figure size 432x288 with 1 Axes>"
      ]
     },
     "metadata": {
      "needs_background": "light",
      "tags": []
     },
     "output_type": "display_data"
    }
   ],
   "source": [
    "# Create a bar plot for the number and percentage of fraudulent vs non-fraudulent transcations\n",
    "sns.countplot(df['Class'])"
   ]
  },
  {
   "cell_type": "code",
   "execution_count": 11,
   "metadata": {
    "colab": {
     "base_uri": "https://localhost:8080/",
     "height": 282
    },
    "id": "dnTwykGaM3Jx",
    "outputId": "af2d4cbb-8225-4694-90e4-d77de8644c2e"
   },
   "outputs": [
    {
     "data": {
      "text/plain": [
       "<matplotlib.axes._subplots.AxesSubplot at 0x7f7bf4877c88>"
      ]
     },
     "execution_count": 11,
     "metadata": {
      "tags": []
     },
     "output_type": "execute_result"
    },
    {
     "data": {
      "image/png": "[encoded data removed]",
      "text/plain": [
       "<Figure size 432x288 with 1 Axes>"
      ]
     },
     "metadata": {
      "needs_background": "light",
      "tags": []
     },
     "output_type": "display_data"
    }
   ],
   "source": [
    "# barplot for the percentage of fraudulent and non-fraudulent transactions\n",
    "sns.barplot(x=[0,1],y=[nonFraudper,Fraudper])"
   ]
  },
  {
   "cell_type": "markdown",
   "metadata": {
    "id": "hXcSoXnBM3J7"
   },
   "source": [
    "**Observation:** <br>\n",
    "\n",
    "There is a high class imbalance in the target classes."
   ]
  },
  {
   "cell_type": "markdown",
   "metadata": {
    "id": "iTARcT6QM3KB"
   },
   "source": [
    "#### Distribution of class with respect to variables - time and Amount"
   ]
  },
  {
   "cell_type": "code",
   "execution_count": 12,
   "metadata": {
    "colab": {
     "base_uri": "https://localhost:8080/",
     "height": 296
    },
    "id": "mw0SNWX9M3KE",
    "outputId": "66b94bb5-3c37-4bc3-cd18-9db60ee1d10f"
   },
   "outputs": [
    {
     "data": {
      "text/plain": [
       "<matplotlib.axes._subplots.AxesSubplot at 0x7f7bf4415828>"
      ]
     },
     "execution_count": 12,
     "metadata": {
      "tags": []
     },
     "output_type": "execute_result"
    },
    {
     "data": {
      "image/png": "[encoded data removed]",
      "text/plain": [
       "<Figure size 432x288 with 1 Axes>"
      ]
     },
     "metadata": {
      "needs_background": "light",
      "tags": []
     },
     "output_type": "display_data"
    }
   ],
   "source": [
    "sns.distplot(df['Amount'])"
   ]
  },
  {
   "cell_type": "markdown",
   "metadata": {},
   "source": [
    "**Observation:** <br>\n",
    "\n",
    "Amount column is highly right skewed."
   ]
  },
  {
   "cell_type": "code",
   "execution_count": 13,
   "metadata": {
    "colab": {
     "base_uri": "https://localhost:8080/",
     "height": 307
    },
    "id": "SkO-SaYWM3KN",
    "outputId": "f399d646-0d98-4373-cf69-a2569c65f41a"
   },
   "outputs": [
    {
     "data": {
      "text/plain": [
       "<matplotlib.axes._subplots.AxesSubplot at 0x7f7bf48e44e0>"
      ]
     },
     "execution_count": 13,
     "metadata": {
      "tags": []
     },
     "output_type": "execute_result"
    },
    {
     "data": {
      "image/png": "[encoded data removed]",
      "text/plain": [
       "<Figure size 432x288 with 1 Axes>"
      ]
     },
     "metadata": {
      "needs_background": "light",
      "tags": []
     },
     "output_type": "display_data"
    }
   ],
   "source": [
    "sns.distplot(df['Time'])"
   ]
  },
  {
   "cell_type": "code",
   "execution_count": 14,
   "metadata": {
    "colab": {
     "base_uri": "https://localhost:8080/",
     "height": 743
    },
    "id": "XKCXnEsPM3KZ",
    "outputId": "5e15392a-65c7-45b0-97eb-7f08c3f4fb92"
   },
   "outputs": [
    {
     "data": {
      "text/plain": [
       "<seaborn.axisgrid.PairGrid at 0x7f7bf1a11c50>"
      ]
     },
     "execution_count": 14,
     "metadata": {
      "tags": []
     },
     "output_type": "execute_result"
    },
    {
     "data": {
      "image/png": "[encoded data removed]",
      "text/plain": [
       "<Figure size 762.375x720 with 6 Axes>"
      ]
     },
     "metadata": {
      "needs_background": "light",
      "tags": []
     },
     "output_type": "display_data"
    }
   ],
   "source": [
    "sns.pairplot(df,x_vars=['Amount','Time'],y_vars=['Amount','Time'],hue='Class',size=5)"
   ]
  },
  {
   "cell_type": "code",
   "execution_count": 15,
   "metadata": {
    "colab": {
     "base_uri": "https://localhost:8080/"
    },
    "id": "Qd9fXvdHM3Kj",
    "outputId": "9e123c8e-23f5-42f7-8180-cb37d9dcbee0"
   },
   "outputs": [
    {
     "name": "stdout",
     "output_type": "stream",
     "text": [
      "<class 'pandas.core.frame.DataFrame'>\n",
      "RangeIndex: 284807 entries, 0 to 284806\n",
      "Data columns (total 31 columns):\n",
      " #   Column        Non-Null Count   Dtype  \n",
      "---  ------        --------------   -----  \n",
      " 0   V1            284807 non-null  float64\n",
      " 1   V2            284807 non-null  float64\n",
      " 2   V3            284807 non-null  float64\n",
      " 3   V4            284807 non-null  float64\n",
      " 4   V5            284807 non-null  float64\n",
      " 5   V6            284807 non-null  float64\n",
      " 6   V7            284807 non-null  float64\n",
      " 7   V8            284807 non-null  float64\n",
      " 8   V9            284807 non-null  float64\n",
      " 9   V10           284807 non-null  float64\n",
      " 10  V11           284807 non-null  float64\n",
      " 11  V12           284807 non-null  float64\n",
      " 12  V13           284807 non-null  float64\n",
      " 13  V14           284807 non-null  float64\n",
      " 14  V15           284807 non-null  float64\n",
      " 15  V16           284807 non-null  float64\n",
      " 16  V17           284807 non-null  float64\n",
      " 17  V18           284807 non-null  float64\n",
      " 18  V19           284807 non-null  float64\n",
      " 19  V20           284807 non-null  float64\n",
      " 20  V21           284807 non-null  float64\n",
      " 21  V22           284807 non-null  float64\n",
      " 22  V23           284807 non-null  float64\n",
      " 23  V24           284807 non-null  float64\n",
      " 24  V25           284807 non-null  float64\n",
      " 25  V26           284807 non-null  float64\n",
      " 26  V27           284807 non-null  float64\n",
      " 27  V28           284807 non-null  float64\n",
      " 28  Class         284807 non-null  int64  \n",
      " 29  scaledAmount  284807 non-null  float64\n",
      " 30  scaledTime    284807 non-null  float64\n",
      "dtypes: float64(30), int64(1)\n",
      "memory usage: 67.4 MB\n"
     ]
    }
   ],
   "source": [
    "#Scaling Time and Amount\n",
    "from sklearn.preprocessing import RobustScaler\n",
    "scaler = RobustScaler()\n",
    "df['scaledAmount'] = scaler.fit_transform(df['Amount'].values.reshape(-1,1))\n",
    "df['scaledTime'] = scaler.fit_transform(df['Time'].values.reshape(-1,1))\n",
    "df.drop(['Amount','Time'],axis=1,inplace=True)\n",
    "df.info()"
   ]
  },
  {
   "cell_type": "code",
   "execution_count": 16,
   "metadata": {
    "colab": {
     "base_uri": "https://localhost:8080/",
     "height": 296
    },
    "id": "L_FfM6IQM3Kq",
    "outputId": "fa77d52f-abac-4e74-dabc-72ae8167a524"
   },
   "outputs": [
    {
     "data": {
      "text/plain": [
       "<matplotlib.axes._subplots.AxesSubplot at 0x7f7bf1aa8a20>"
      ]
     },
     "execution_count": 16,
     "metadata": {
      "tags": []
     },
     "output_type": "execute_result"
    },
    {
     "data": {
      "image/png": "[encoded data removed]",
      "text/plain": [
       "<Figure size 432x288 with 1 Axes>"
      ]
     },
     "metadata": {
      "needs_background": "light",
      "tags": []
     },
     "output_type": "display_data"
    }
   ],
   "source": [
    "sns.boxplot(x='Class', y='scaledTime', data=df)"
   ]
  },
  {
   "cell_type": "markdown",
   "metadata": {
    "id": "Dnvaw-U8M3K0"
   },
   "source": [
    "Dropping time as not much distinction in class 0 and class 1"
   ]
  },
  {
   "cell_type": "code",
   "execution_count": 17,
   "metadata": {
    "id": "73qrcu16M3K2"
   },
   "outputs": [],
   "source": [
    "# Drop unnecessary columns\n",
    "# videos suggest to drop time column?\n",
    "df = df.drop(['scaledTime'],axis=1)"
   ]
  },
  {
   "cell_type": "markdown",
   "metadata": {
    "id": "cdpWLbWNM3LA"
   },
   "source": [
    "#### Plotting the distribution of variables to check skewness"
   ]
  },
  {
   "cell_type": "code",
   "execution_count": 18,
   "metadata": {
    "colab": {
     "base_uri": "https://localhost:8080/"
    },
    "id": "2bno7lYaM3LD",
    "outputId": "8f3e87b1-4e3f-4671-8300-39df93a240b2"
   },
   "outputs": [
    {
     "data": {
      "text/plain": [
       "Class           23.997579\n",
       "scaledAmount    16.977724\n",
       "V28             11.192091\n",
       "V21              3.592991\n",
       "V7               2.553907\n",
       "V6               1.826581\n",
       "V10              1.187141\n",
       "V4               0.676292\n",
       "V26              0.576693\n",
       "V9               0.554680\n",
       "V11              0.356506\n",
       "V19              0.109192\n",
       "V13              0.065233\n",
       "V22             -0.213258\n",
       "V18             -0.259880\n",
       "V15             -0.308423\n",
       "V25             -0.415793\n",
       "V24             -0.552499\n",
       "V16             -1.100966\n",
       "V27             -1.170209\n",
       "V14             -1.995176\n",
       "V20             -2.037155\n",
       "V3              -2.240155\n",
       "V12             -2.278401\n",
       "V5              -2.425901\n",
       "V1              -3.280667\n",
       "V17             -3.844914\n",
       "V2              -4.624866\n",
       "V23             -5.875140\n",
       "V8              -8.521944\n",
       "dtype: float64"
      ]
     },
     "execution_count": 18,
     "metadata": {
      "tags": []
     },
     "output_type": "execute_result"
    }
   ],
   "source": [
    "# plot the histogram of a variable from the dataset to see the skewness\n",
    "skewed_data = df.skew(axis = 0).sort_values(ascending=False)#, skipna = True) \n",
    "skewed_data"
   ]
  },
  {
   "cell_type": "code",
   "execution_count": 19,
   "metadata": {
    "colab": {
     "base_uri": "https://localhost:8080/"
    },
    "id": "BlpNOr0RM3LR",
    "outputId": "4cdc949d-1991-42c2-ca12-3772fe94d6e0"
   },
   "outputs": [
    {
     "data": {
      "text/plain": [
       "['V1',\n",
       " 'V2',\n",
       " 'V3',\n",
       " 'V4',\n",
       " 'V5',\n",
       " 'V6',\n",
       " 'V7',\n",
       " 'V8',\n",
       " 'V9',\n",
       " 'V10',\n",
       " 'V11',\n",
       " 'V12',\n",
       " 'V13',\n",
       " 'V14',\n",
       " 'V15',\n",
       " 'V16',\n",
       " 'V17',\n",
       " 'V18',\n",
       " 'V19',\n",
       " 'V20',\n",
       " 'V21',\n",
       " 'V22',\n",
       " 'V23',\n",
       " 'V24',\n",
       " 'V25',\n",
       " 'V26',\n",
       " 'V27',\n",
       " 'V28',\n",
       " 'scaledAmount']"
      ]
     },
     "execution_count": 19,
     "metadata": {
      "tags": []
     },
     "output_type": "execute_result"
    }
   ],
   "source": [
    "cols = list(df.drop(['Class'],axis=1).columns)\n",
    "cols"
   ]
  },
  {
   "cell_type": "code",
   "execution_count": 20,
   "metadata": {
    "colab": {
     "base_uri": "https://localhost:8080/",
     "height": 1000
    },
    "id": "PxtrNl_PM3La",
    "outputId": "f2026d0a-ed8a-47a8-9ed0-cb35443c6320"
   },
   "outputs": [
    {
     "data": {
      "image/png": "[encoded data removed]",
      "text/plain": [
       "<Figure size 1440x2880 with 29 Axes>"
      ]
     },
     "metadata": {
      "needs_background": "light",
      "tags": []
     },
     "output_type": "display_data"
    }
   ],
   "source": [
    "# class0 = df.loc[df['Class']==0]\n",
    "# class1 = df.loc[df['Class']==1]\n",
    "\n",
    "def displot_variables(cols,X):\n",
    "    \n",
    "    plt.figure(figsize=(20, 40))\n",
    "    for i in range(0,len(cols)):\n",
    "        plt.subplot(15,5,i+1)\n",
    "        sns.distplot(X[cols[i]])\n",
    "#         sns.kdeplot(class0[cols[i]],bw=0.5,label=\"Class 0\")\n",
    "#         sns.kdeplot(class1[cols[i]],bw=0.5,label=\"Class 1\")\n",
    "        plt.xlabel(cols[i], fontsize=12)\n",
    "    plt.tight_layout()\n",
    "    plt.show()\n",
    "    \n",
    "displot_variables(cols,df[cols])"
   ]
  },
  {
   "cell_type": "markdown",
   "metadata": {
    "id": "L85GQ6HAM3Lg"
   },
   "source": [
    "### Power transformation: <br>\n",
    "- <b>Using Power Transformer package present in the <b>preprocessing library provided by sklearn to make distribution more gaussian"
   ]
  },
  {
   "cell_type": "code",
   "execution_count": 21,
   "metadata": {
    "colab": {
     "base_uri": "https://localhost:8080/",
     "height": 217
    },
    "id": "jJaTfe4_M3Lh",
    "outputId": "49ae219a-fd70-49ac-933b-4d1d55329e84"
   },
   "outputs": [
    {
     "data": {
      "text/html": [
       "<div>\n",
       "<style scoped>\n",
       "    .dataframe tbody tr th:only-of-type {\n",
       "        vertical-align: middle;\n",
       "    }\n",
       "\n",
       "    .dataframe tbody tr th {\n",
       "        vertical-align: top;\n",
       "    }\n",
       "\n",
       "    .dataframe thead th {\n",
       "        text-align: right;\n",
       "    }\n",
       "</style>\n",
       "<table border=\"1\" class=\"dataframe\">\n",
       "  <thead>\n",
       "    <tr style=\"text-align: right;\">\n",
       "      <th></th>\n",
       "      <th>V1</th>\n",
       "      <th>V2</th>\n",
       "      <th>V3</th>\n",
       "      <th>V4</th>\n",
       "      <th>V5</th>\n",
       "      <th>V6</th>\n",
       "      <th>V7</th>\n",
       "      <th>V8</th>\n",
       "      <th>V9</th>\n",
       "      <th>V10</th>\n",
       "      <th>V11</th>\n",
       "      <th>V12</th>\n",
       "      <th>V13</th>\n",
       "      <th>V14</th>\n",
       "      <th>V15</th>\n",
       "      <th>V16</th>\n",
       "      <th>V17</th>\n",
       "      <th>V18</th>\n",
       "      <th>V19</th>\n",
       "      <th>V20</th>\n",
       "      <th>V21</th>\n",
       "      <th>V22</th>\n",
       "      <th>V23</th>\n",
       "      <th>V24</th>\n",
       "      <th>V25</th>\n",
       "      <th>V26</th>\n",
       "      <th>V27</th>\n",
       "      <th>V28</th>\n",
       "      <th>scaledAmount</th>\n",
       "    </tr>\n",
       "  </thead>\n",
       "  <tbody>\n",
       "    <tr>\n",
       "      <th>0</th>\n",
       "      <td>-0.904815</td>\n",
       "      <td>-0.131503</td>\n",
       "      <td>2.176074</td>\n",
       "      <td>0.983588</td>\n",
       "      <td>-0.256110</td>\n",
       "      <td>0.459227</td>\n",
       "      <td>0.193516</td>\n",
       "      <td>0.020305</td>\n",
       "      <td>0.380443</td>\n",
       "      <td>0.127074</td>\n",
       "      <td>-0.513088</td>\n",
       "      <td>-0.774671</td>\n",
       "      <td>-0.997398</td>\n",
       "      <td>-0.404755</td>\n",
       "      <td>1.711206</td>\n",
       "      <td>-0.600774</td>\n",
       "      <td>0.215544</td>\n",
       "      <td>0.009991</td>\n",
       "      <td>0.503467</td>\n",
       "      <td>0.323559</td>\n",
       "      <td>-0.007670</td>\n",
       "      <td>0.366644</td>\n",
       "      <td>-0.189647</td>\n",
       "      <td>0.015102</td>\n",
       "      <td>0.211929</td>\n",
       "      <td>-0.323884</td>\n",
       "      <td>0.323027</td>\n",
       "      <td>-0.053332</td>\n",
       "      <td>1.338214</td>\n",
       "    </tr>\n",
       "    <tr>\n",
       "      <th>1</th>\n",
       "      <td>0.626390</td>\n",
       "      <td>0.093067</td>\n",
       "      <td>-0.035062</td>\n",
       "      <td>0.387928</td>\n",
       "      <td>0.031947</td>\n",
       "      <td>0.045846</td>\n",
       "      <td>-0.063874</td>\n",
       "      <td>0.006711</td>\n",
       "      <td>-0.184488</td>\n",
       "      <td>-0.115195</td>\n",
       "      <td>1.523934</td>\n",
       "      <td>1.296242</td>\n",
       "      <td>0.498814</td>\n",
       "      <td>-0.232720</td>\n",
       "      <td>0.674890</td>\n",
       "      <td>0.491958</td>\n",
       "      <td>-0.175639</td>\n",
       "      <td>-0.238612</td>\n",
       "      <td>-0.169496</td>\n",
       "      <td>-0.093203</td>\n",
       "      <td>-0.298760</td>\n",
       "      <td>-0.884170</td>\n",
       "      <td>0.153342</td>\n",
       "      <td>-0.637483</td>\n",
       "      <td>0.288440</td>\n",
       "      <td>0.353130</td>\n",
       "      <td>-0.035793</td>\n",
       "      <td>0.057491</td>\n",
       "      <td>-1.095159</td>\n",
       "    </tr>\n",
       "    <tr>\n",
       "      <th>2</th>\n",
       "      <td>-0.904242</td>\n",
       "      <td>-0.871858</td>\n",
       "      <td>1.381297</td>\n",
       "      <td>0.341811</td>\n",
       "      <td>-0.374492</td>\n",
       "      <td>1.320901</td>\n",
       "      <td>0.639714</td>\n",
       "      <td>0.172348</td>\n",
       "      <td>-1.453859</td>\n",
       "      <td>0.234324</td>\n",
       "      <td>0.640742</td>\n",
       "      <td>-0.104954</td>\n",
       "      <td>0.724952</td>\n",
       "      <td>-0.255865</td>\n",
       "      <td>2.872435</td>\n",
       "      <td>-2.809663</td>\n",
       "      <td>1.383126</td>\n",
       "      <td>-0.165261</td>\n",
       "      <td>-2.838493</td>\n",
       "      <td>0.680896</td>\n",
       "      <td>0.357879</td>\n",
       "      <td>1.069496</td>\n",
       "      <td>1.501808</td>\n",
       "      <td>-1.133450</td>\n",
       "      <td>-0.653607</td>\n",
       "      <td>-0.209953</td>\n",
       "      <td>-0.151417</td>\n",
       "      <td>-0.173752</td>\n",
       "      <td>1.768317</td>\n",
       "    </tr>\n",
       "    <tr>\n",
       "      <th>3</th>\n",
       "      <td>-0.742857</td>\n",
       "      <td>-0.202760</td>\n",
       "      <td>1.401049</td>\n",
       "      <td>-0.581136</td>\n",
       "      <td>-0.019151</td>\n",
       "      <td>0.983351</td>\n",
       "      <td>0.191907</td>\n",
       "      <td>0.309141</td>\n",
       "      <td>-1.319689</td>\n",
       "      <td>-0.008922</td>\n",
       "      <td>-0.179270</td>\n",
       "      <td>0.026987</td>\n",
       "      <td>0.517344</td>\n",
       "      <td>-0.381222</td>\n",
       "      <td>-0.720269</td>\n",
       "      <td>-1.194700</td>\n",
       "      <td>-0.829186</td>\n",
       "      <td>2.435570</td>\n",
       "      <td>-1.528799</td>\n",
       "      <td>-0.273184</td>\n",
       "      <td>-0.133275</td>\n",
       "      <td>-0.013060</td>\n",
       "      <td>-0.317680</td>\n",
       "      <td>-1.756645</td>\n",
       "      <td>1.276336</td>\n",
       "      <td>-0.399896</td>\n",
       "      <td>0.144087</td>\n",
       "      <td>0.201524</td>\n",
       "      <td>1.212715</td>\n",
       "    </tr>\n",
       "    <tr>\n",
       "      <th>4</th>\n",
       "      <td>-0.823641</td>\n",
       "      <td>0.530197</td>\n",
       "      <td>1.160592</td>\n",
       "      <td>0.357540</td>\n",
       "      <td>-0.305614</td>\n",
       "      <td>0.187360</td>\n",
       "      <td>0.479194</td>\n",
       "      <td>-0.331706</td>\n",
       "      <td>0.769520</td>\n",
       "      <td>0.718432</td>\n",
       "      <td>-0.798770</td>\n",
       "      <td>0.496185</td>\n",
       "      <td>1.343525</td>\n",
       "      <td>-1.168769</td>\n",
       "      <td>0.138162</td>\n",
       "      <td>-0.580731</td>\n",
       "      <td>-0.319406</td>\n",
       "      <td>-0.066425</td>\n",
       "      <td>0.986458</td>\n",
       "      <td>0.528646</td>\n",
       "      <td>0.004660</td>\n",
       "      <td>1.107811</td>\n",
       "      <td>-0.232990</td>\n",
       "      <td>0.145885</td>\n",
       "      <td>-0.429239</td>\n",
       "      <td>1.053668</td>\n",
       "      <td>0.541488</td>\n",
       "      <td>0.669838</td>\n",
       "      <td>0.774857</td>\n",
       "    </tr>\n",
       "  </tbody>\n",
       "</table>\n",
       "</div>"
      ],
      "text/plain": [
       "         V1        V2        V3        V4        V5        V6        V7  \\\n",
       "0 -0.904815 -0.131503  2.176074  0.983588 -0.256110  0.459227  0.193516   \n",
       "1  0.626390  0.093067 -0.035062  0.387928  0.031947  0.045846 -0.063874   \n",
       "2 -0.904242 -0.871858  1.381297  0.341811 -0.374492  1.320901  0.639714   \n",
       "3 -0.742857 -0.202760  1.401049 -0.581136 -0.019151  0.983351  0.191907   \n",
       "4 -0.823641  0.530197  1.160592  0.357540 -0.305614  0.187360  0.479194   \n",
       "\n",
       "         V8        V9       V10       V11       V12       V13       V14  \\\n",
       "0  0.020305  0.380443  0.127074 -0.513088 -0.774671 -0.997398 -0.404755   \n",
       "1  0.006711 -0.184488 -0.115195  1.523934  1.296242  0.498814 -0.232720   \n",
       "2  0.172348 -1.453859  0.234324  0.640742 -0.104954  0.724952 -0.255865   \n",
       "3  0.309141 -1.319689 -0.008922 -0.179270  0.026987  0.517344 -0.381222   \n",
       "4 -0.331706  0.769520  0.718432 -0.798770  0.496185  1.343525 -1.168769   \n",
       "\n",
       "        V15       V16       V17       V18       V19       V20       V21  \\\n",
       "0  1.711206 -0.600774  0.215544  0.009991  0.503467  0.323559 -0.007670   \n",
       "1  0.674890  0.491958 -0.175639 -0.238612 -0.169496 -0.093203 -0.298760   \n",
       "2  2.872435 -2.809663  1.383126 -0.165261 -2.838493  0.680896  0.357879   \n",
       "3 -0.720269 -1.194700 -0.829186  2.435570 -1.528799 -0.273184 -0.133275   \n",
       "4  0.138162 -0.580731 -0.319406 -0.066425  0.986458  0.528646  0.004660   \n",
       "\n",
       "        V22       V23       V24       V25       V26       V27       V28  \\\n",
       "0  0.366644 -0.189647  0.015102  0.211929 -0.323884  0.323027 -0.053332   \n",
       "1 -0.884170  0.153342 -0.637483  0.288440  0.353130 -0.035793  0.057491   \n",
       "2  1.069496  1.501808 -1.133450 -0.653607 -0.209953 -0.151417 -0.173752   \n",
       "3 -0.013060 -0.317680 -1.756645  1.276336 -0.399896  0.144087  0.201524   \n",
       "4  1.107811 -0.232990  0.145885 -0.429239  1.053668  0.541488  0.669838   \n",
       "\n",
       "   scaledAmount  \n",
       "0      1.338214  \n",
       "1     -1.095159  \n",
       "2      1.768317  \n",
       "3      1.212715  \n",
       "4      0.774857  "
      ]
     },
     "execution_count": 21,
     "metadata": {
      "tags": []
     },
     "output_type": "execute_result"
    }
   ],
   "source": [
    "# - Apply : preprocessing.PowerTransformer(copy=False) to fit & transform the train & test data\n",
    "\n",
    "from pandas.plotting import scatter_matrix\n",
    "from sklearn.preprocessing import PowerTransformer\n",
    "from matplotlib import pyplot\n",
    "\n",
    "\n",
    "# perform a yeo-johnson transform of the dataset\n",
    "df_transformed = df.drop(['Class'],axis=1)\n",
    "transformed_cols = df_transformed.columns\n",
    "pt = PowerTransformer(method='yeo-johnson',copy=False)\n",
    "data = pt.fit_transform(df_transformed)\n",
    "# convert the array back to a dataframe\n",
    "dataset = pd.DataFrame(data,columns=transformed_cols)\n",
    "dataset.head()"
   ]
  },
  {
   "cell_type": "code",
   "execution_count": 22,
   "metadata": {
    "colab": {
     "base_uri": "https://localhost:8080/",
     "height": 1000
    },
    "id": "L44DMY8eM3Lu",
    "outputId": "edf253b2-8487-4d52-acf7-da2ae006acbd"
   },
   "outputs": [
    {
     "data": {
      "image/png": "[encoded data removed]",
      "text/plain": [
       "<Figure size 1440x2880 with 29 Axes>"
      ]
     },
     "metadata": {
      "needs_background": "light",
      "tags": []
     },
     "output_type": "display_data"
    }
   ],
   "source": [
    "# plot the histogram of a variable from the dataset again to see the result \n",
    "# class0 = df.loc[df['Class']==0]\n",
    "# class1 = df.loc[df['Class']==1]\n",
    "\n",
    "def displot_variables(cols,dataset):\n",
    "    \n",
    "    plt.figure(figsize=(20, 40))\n",
    "    for i in range(0,len(cols)):\n",
    "        plt.subplot(15,5,i+1)\n",
    "        sns.distplot(dataset[cols[i]])\n",
    "#         sns.kdeplot(class0[cols[i]],bw=0.5,label=\"Class 0\")\n",
    "#         sns.kdeplot(class1[cols[i]],bw=0.5,label=\"Class 1\")\n",
    "        plt.xlabel(cols[i], fontsize=12)\n",
    "    plt.tight_layout()\n",
    "    plt.show()\n",
    "    \n",
    "displot_variables(cols,dataset)"
   ]
  },
  {
   "cell_type": "code",
   "execution_count": 23,
   "metadata": {
    "colab": {
     "base_uri": "https://localhost:8080/"
    },
    "id": "BCYLI-uQM3L4",
    "outputId": "e479ae31-a54d-4a8b-9352-7a5e4c82cef7"
   },
   "outputs": [
    {
     "data": {
      "text/plain": [
       "V27             3.465031\n",
       "V7              2.594575\n",
       "V8              2.297590\n",
       "V28             1.069193\n",
       "scaledAmount    0.417453\n",
       "V2              0.334852\n",
       "V12             0.158932\n",
       "V16             0.137437\n",
       "V24             0.112492\n",
       "V14             0.105966\n",
       "V25             0.077895\n",
       "V11             0.060890\n",
       "V4              0.018930\n",
       "V19             0.015231\n",
       "V15             0.013157\n",
       "V13             0.006134\n",
       "V26            -0.024102\n",
       "V22            -0.025686\n",
       "V9             -0.048343\n",
       "V18            -0.059630\n",
       "V3             -0.079980\n",
       "V1             -0.218003\n",
       "V23            -0.249209\n",
       "V17            -0.791141\n",
       "V20            -0.923653\n",
       "V5             -1.170100\n",
       "V10            -1.318334\n",
       "V6             -1.937469\n",
       "V21            -1.966863\n",
       "dtype: float64"
      ]
     },
     "execution_count": 23,
     "metadata": {
      "tags": []
     },
     "output_type": "execute_result"
    }
   ],
   "source": [
    "skewed_data = dataset.skew(axis = 0).sort_values(ascending=False)#, skipna = True) \n",
    "skewed_data"
   ]
  },
  {
   "cell_type": "markdown",
   "metadata": {
    "id": "UsaYB_d3M3L-"
   },
   "source": [
    "**Observations:<br>**\n",
    "\n",
    "We see that skewness has been reduced to a certain extent."
   ]
  },
  {
   "cell_type": "markdown",
   "metadata": {
    "id": "wmsPBtFBM3L_"
   },
   "source": [
    "### Splitting the data into train & test data"
   ]
  },
  {
   "cell_type": "code",
   "execution_count": 24,
   "metadata": {
    "id": "h13f2Fb1M3MB"
   },
   "outputs": [],
   "source": [
    "y= df.Class\n",
    "X=dataset"
   ]
  },
  {
   "cell_type": "code",
   "execution_count": 25,
   "metadata": {
    "id": "cbtwTtozM3MH"
   },
   "outputs": [],
   "source": [
    "from sklearn import model_selection\n",
    "\n",
    "X_train, X_test, y_train, y_test = train_test_split(X,y,stratify=y,train_size=0.7,random_state=100)"
   ]
  },
  {
   "cell_type": "markdown",
   "metadata": {
    "id": "iA5Tl-9OM3MN"
   },
   "source": [
    "##### Preserve X_test & y_test to evaluate on the test data once you build the model"
   ]
  },
  {
   "cell_type": "code",
   "execution_count": 26,
   "metadata": {
    "colab": {
     "base_uri": "https://localhost:8080/"
    },
    "id": "rbo9s3V8M3MP",
    "outputId": "e1aab251-aaf8-4997-842b-ef6123dc7850"
   },
   "outputs": [
    {
     "name": "stdout",
     "output_type": "stream",
     "text": [
      "492\n",
      "344\n",
      "148\n"
     ]
    }
   ],
   "source": [
    "print(np.sum(y))\n",
    "print(np.sum(y_train))\n",
    "print(np.sum(y_test))"
   ]
  },
  {
   "cell_type": "markdown",
   "metadata": {
    "id": "6eFWeWVIM3MW"
   },
   "source": [
    "## Model Building (Imbalanced dataset)\n",
    "- Building different models on the imbalanced dataset and verifying the result"
   ]
  },
  {
   "cell_type": "markdown",
   "metadata": {
    "id": "97kaQyZIM3MX"
   },
   "source": [
    "#### Creating a reusable function - model_evaluation_metrics to display the metrics in tabular format"
   ]
  },
  {
   "cell_type": "code",
   "execution_count": 27,
   "metadata": {
    "id": "Eh6tQC7jM3MZ"
   },
   "outputs": [],
   "source": [
    "def model_evaluation_metrics(results,modelname,actual,predicted):\n",
    "    cm1 = metrics.confusion_matrix(actual,predicted)\n",
    "    speci = cm1[0,0]/(cm1[0,0]+cm1[0,1])\n",
    "    sensi = cm1[1,1]/(cm1[1,0]+cm1[1,1])\n",
    "    tempResults = pd.DataFrame({'Method':modelname,\n",
    "                                'Accuracy':[metrics.accuracy_score(actual,predicted)],\n",
    "                                'Specificity':speci,\n",
    "                                'Sensitivity':sensi,\n",
    "                                'Precision': [metrics.precision_score(actual,predicted)], \n",
    "                                'Recall': [metrics.recall_score(actual,predicted)],\n",
    "                                'AUC': [metrics.roc_auc_score(actual,predicted)]})\n",
    "    results = pd.concat([results, tempResults])\n",
    "    return results"
   ]
  },
  {
   "cell_type": "markdown",
   "metadata": {
    "id": "tEcs6GCsM3Mu"
   },
   "source": [
    "### Logistic Regression"
   ]
  },
  {
   "cell_type": "code",
   "execution_count": 28,
   "metadata": {
    "colab": {
     "base_uri": "https://localhost:8080/",
     "height": 208
    },
    "id": "CAb4H78PM3Mv",
    "outputId": "d69a4149-52b8-4e31-fd03-d21e487eefb1"
   },
   "outputs": [
    {
     "name": "stdout",
     "output_type": "stream",
     "text": [
      "StratifiedKFold(n_splits=3, random_state=1, shuffle=True)\n",
      "TRAIN: [     0      1      2 ... 199359 199360 199363] TEST: [     3     14     16 ... 199357 199361 199362]\n",
      "TRAIN: [     1      3      4 ... 199357 199361 199362] TEST: [     0      2      5 ... 199359 199360 199363]\n",
      "TRAIN: [     0      2      3 ... 199361 199362 199363] TEST: [     1      4      8 ... 199354 199355 199356]\n"
     ]
    },
    {
     "data": {
      "text/html": [
       "<div>\n",
       "<style scoped>\n",
       "    .dataframe tbody tr th:only-of-type {\n",
       "        vertical-align: middle;\n",
       "    }\n",
       "\n",
       "    .dataframe tbody tr th {\n",
       "        vertical-align: top;\n",
       "    }\n",
       "\n",
       "    .dataframe thead th {\n",
       "        text-align: right;\n",
       "    }\n",
       "</style>\n",
       "<table border=\"1\" class=\"dataframe\">\n",
       "  <thead>\n",
       "    <tr style=\"text-align: right;\">\n",
       "      <th></th>\n",
       "      <th>Method</th>\n",
       "      <th>Accuracy</th>\n",
       "      <th>Specificity</th>\n",
       "      <th>Sensitivity</th>\n",
       "      <th>Precision</th>\n",
       "      <th>Recall</th>\n",
       "      <th>AUC</th>\n",
       "    </tr>\n",
       "  </thead>\n",
       "  <tbody>\n",
       "    <tr>\n",
       "      <th>0</th>\n",
       "      <td>Logistitic Reg CV 0</td>\n",
       "      <td>0.977549</td>\n",
       "      <td>0.999769</td>\n",
       "      <td>0.063412</td>\n",
       "      <td>0.869565</td>\n",
       "      <td>0.063412</td>\n",
       "      <td>0.531590</td>\n",
       "    </tr>\n",
       "    <tr>\n",
       "      <th>0</th>\n",
       "      <td>Logistitic Reg CV 1</td>\n",
       "      <td>0.973140</td>\n",
       "      <td>0.999830</td>\n",
       "      <td>0.055378</td>\n",
       "      <td>0.904348</td>\n",
       "      <td>0.055378</td>\n",
       "      <td>0.527604</td>\n",
       "    </tr>\n",
       "    <tr>\n",
       "      <th>0</th>\n",
       "      <td>Logistitic Reg CV 2</td>\n",
       "      <td>0.970807</td>\n",
       "      <td>0.999907</td>\n",
       "      <td>0.052889</td>\n",
       "      <td>0.947368</td>\n",
       "      <td>0.052889</td>\n",
       "      <td>0.526398</td>\n",
       "    </tr>\n",
       "  </tbody>\n",
       "</table>\n",
       "</div>"
      ],
      "text/plain": [
       "                Method  Accuracy  Specificity  Sensitivity  Precision  \\\n",
       "0  Logistitic Reg CV 0  0.977549     0.999769     0.063412   0.869565   \n",
       "0  Logistitic Reg CV 1  0.973140     0.999830     0.055378   0.904348   \n",
       "0  Logistitic Reg CV 2  0.970807     0.999907     0.052889   0.947368   \n",
       "\n",
       "     Recall       AUC  \n",
       "0  0.063412  0.531590  \n",
       "0  0.055378  0.527604  \n",
       "0  0.052889  0.526398  "
      ]
     },
     "execution_count": 28,
     "metadata": {
      "tags": []
     },
     "output_type": "execute_result"
    }
   ],
   "source": [
    "results=pd.DataFrame()\n",
    "logModel = LogisticRegression(class_weight='balanced')\n",
    "\n",
    "kf =StratifiedKFold(n_splits=3, shuffle=True, random_state=1) # Define the split - into 2 folds \n",
    "kf.get_n_splits(X_train) # returns the number of splitting iterations in the cross-validator\n",
    "print(kf)\n",
    "\n",
    "i=0\n",
    "for train_index, test_index in kf.split(X_train,y_train):\n",
    "    print(\"TRAIN:\", train_index, \"TEST:\", test_index)\n",
    "    X_train_cv, X_test_cv =  X_train.iloc[train_index], X_train.iloc[test_index]\n",
    "    y_train_cv, y_test_cv = y_train.iloc[train_index], y_train.iloc[test_index]\n",
    "\n",
    "    logModel.fit(X_train_cv,y_train_cv)\n",
    "    y_test_pred = logModel.predict(X_test_cv)\n",
    "    \n",
    "    model = \"Logistitic Reg CV \" + str(i)\n",
    "    i=i+1\n",
    "    results=model_evaluation_metrics(results,model,y_test_pred,y_test_cv)\n",
    "\n",
    "results"
   ]
  },
  {
   "cell_type": "code",
   "execution_count": 29,
   "metadata": {
    "colab": {
     "base_uri": "https://localhost:8080/"
    },
    "id": "sJXLvVqZM3M1",
    "outputId": "9396e08f-3dc8-4a16-8c72-f7d2863d49fe"
   },
   "outputs": [
    {
     "name": "stdout",
     "output_type": "stream",
     "text": [
      "Fitting 5 folds for each of 6 candidates, totalling 30 fits\n"
     ]
    },
    {
     "name": "stderr",
     "output_type": "stream",
     "text": [
      "[Parallel(n_jobs=-1)]: Using backend LokyBackend with 2 concurrent workers.\n",
      "[Parallel(n_jobs=-1)]: Done  30 out of  30 | elapsed:  1.4min finished\n"
     ]
    },
    {
     "name": "stdout",
     "output_type": "stream",
     "text": [
      "We can get best roc_auc of 0.9805267571543872 using {'C': 0.001, 'penalty': 'l1', 'solver': 'liblinear'}\n"
     ]
    }
   ],
   "source": [
    "folds = StratifiedKFold(n_splits=5, shuffle=True, random_state=1)\n",
    "\n",
    "param_grid = [\n",
    "    {'penalty' : ['l1', 'l2'],\n",
    "    'C' : [0.1,0.001,0.0001],\n",
    "    'solver' : ['liblinear']\n",
    "    }\n",
    "]\n",
    "\n",
    "grid_search = GridSearchCV(estimator = logModel,\n",
    "                   param_grid = param_grid,\n",
    "                   scoring = 'roc_auc',\n",
    "                   cv = folds,\n",
    "                   verbose = True,\n",
    "                   return_train_score=True,\n",
    "                   n_jobs=-1)\n",
    "\n",
    "grid_search.fit(X_train,y_train)\n",
    "\n",
    "final_model = grid_search.best_estimator_\n",
    "final_model.fit(X_train,y_train)\n",
    "print('We can get best roc_auc of',grid_search.best_score_,'using',grid_search.best_params_)\n",
    "y_test_pred = final_model.predict(X_test)\n",
    "\n",
    "model = \"Logistitic Reg Tuned\"\n",
    "\n",
    "results=model_evaluation_metrics(results,model,y_test_pred,y_test)"
   ]
  },
  {
   "cell_type": "code",
   "execution_count": 30,
   "metadata": {
    "colab": {
     "base_uri": "https://localhost:8080/",
     "height": 167
    },
    "id": "a7oBRXNwM3M7",
    "outputId": "7b046500-35fa-494a-cd8d-673aee9633e8"
   },
   "outputs": [
    {
     "data": {
      "text/html": [
       "<div>\n",
       "<style scoped>\n",
       "    .dataframe tbody tr th:only-of-type {\n",
       "        vertical-align: middle;\n",
       "    }\n",
       "\n",
       "    .dataframe tbody tr th {\n",
       "        vertical-align: top;\n",
       "    }\n",
       "\n",
       "    .dataframe thead th {\n",
       "        text-align: right;\n",
       "    }\n",
       "</style>\n",
       "<table border=\"1\" class=\"dataframe\">\n",
       "  <thead>\n",
       "    <tr style=\"text-align: right;\">\n",
       "      <th></th>\n",
       "      <th>Method</th>\n",
       "      <th>Accuracy</th>\n",
       "      <th>Specificity</th>\n",
       "      <th>Sensitivity</th>\n",
       "      <th>Precision</th>\n",
       "      <th>Recall</th>\n",
       "      <th>AUC</th>\n",
       "    </tr>\n",
       "  </thead>\n",
       "  <tbody>\n",
       "    <tr>\n",
       "      <th>0</th>\n",
       "      <td>Logistitic Reg CV 0</td>\n",
       "      <td>0.977549</td>\n",
       "      <td>0.999769</td>\n",
       "      <td>0.063412</td>\n",
       "      <td>0.869565</td>\n",
       "      <td>0.063412</td>\n",
       "      <td>0.531590</td>\n",
       "    </tr>\n",
       "    <tr>\n",
       "      <th>0</th>\n",
       "      <td>Logistitic Reg CV 1</td>\n",
       "      <td>0.973140</td>\n",
       "      <td>0.999830</td>\n",
       "      <td>0.055378</td>\n",
       "      <td>0.904348</td>\n",
       "      <td>0.055378</td>\n",
       "      <td>0.527604</td>\n",
       "    </tr>\n",
       "    <tr>\n",
       "      <th>0</th>\n",
       "      <td>Logistitic Reg CV 2</td>\n",
       "      <td>0.970807</td>\n",
       "      <td>0.999907</td>\n",
       "      <td>0.052889</td>\n",
       "      <td>0.947368</td>\n",
       "      <td>0.052889</td>\n",
       "      <td>0.526398</td>\n",
       "    </tr>\n",
       "    <tr>\n",
       "      <th>0</th>\n",
       "      <td>Logistitic Reg Tuned</td>\n",
       "      <td>0.979554</td>\n",
       "      <td>0.999785</td>\n",
       "      <td>0.069930</td>\n",
       "      <td>0.878378</td>\n",
       "      <td>0.069930</td>\n",
       "      <td>0.534857</td>\n",
       "    </tr>\n",
       "  </tbody>\n",
       "</table>\n",
       "</div>"
      ],
      "text/plain": [
       "                 Method  Accuracy  Specificity  Sensitivity  Precision  \\\n",
       "0   Logistitic Reg CV 0  0.977549     0.999769     0.063412   0.869565   \n",
       "0   Logistitic Reg CV 1  0.973140     0.999830     0.055378   0.904348   \n",
       "0   Logistitic Reg CV 2  0.970807     0.999907     0.052889   0.947368   \n",
       "0  Logistitic Reg Tuned  0.979554     0.999785     0.069930   0.878378   \n",
       "\n",
       "     Recall       AUC  \n",
       "0  0.063412  0.531590  \n",
       "0  0.055378  0.527604  \n",
       "0  0.052889  0.526398  \n",
       "0  0.069930  0.534857  "
      ]
     },
     "execution_count": 30,
     "metadata": {
      "tags": []
     },
     "output_type": "execute_result"
    }
   ],
   "source": [
    "results"
   ]
  },
  {
   "cell_type": "markdown",
   "metadata": {
    "id": "y9D3_9BdM3NB"
   },
   "source": [
    "### Random Forest Classifier"
   ]
  },
  {
   "cell_type": "code",
   "execution_count": 34,
   "metadata": {
    "colab": {
     "base_uri": "https://localhost:8080/"
    },
    "id": "Mn14uRKdM3NC",
    "outputId": "9f54e273-2879-4a4f-bf1c-1ca3e909deaa"
   },
   "outputs": [
    {
     "name": "stdout",
     "output_type": "stream",
     "text": [
      "StratifiedKFold(n_splits=3, random_state=1, shuffle=True)\n",
      "TRAIN: [     0      1      2 ... 199359 199360 199363] TEST: [     3     14     16 ... 199357 199361 199362]\n",
      "TRAIN: [     1      3      4 ... 199357 199361 199362] TEST: [     0      2      5 ... 199359 199360 199363]\n",
      "TRAIN: [     0      2      3 ... 199361 199362 199363] TEST: [     1      4      8 ... 199354 199355 199356]\n"
     ]
    }
   ],
   "source": [
    "folds = StratifiedKFold(n_splits=2, shuffle=True, random_state=1)\n",
    "rfModel = RandomForestClassifier(random_state=0, class_weight=\"balanced\")\n",
    "\n",
    "kf =StratifiedKFold(n_splits=3, shuffle=True, random_state=1) # Define the split - into 2 folds \n",
    "kf.get_n_splits(X_train) # returns the number of splitting iterations in the cross-validator\n",
    "print(kf)\n",
    "\n",
    "i=0\n",
    "for train_index, test_index in kf.split(X_train,y_train):\n",
    "    print(\"TRAIN:\", train_index, \"TEST:\", test_index)\n",
    "    X_train_cv, X_test_cv =  X_train.iloc[train_index], X_train.iloc[test_index]\n",
    "    y_train_cv, y_test_cv = y_train.iloc[train_index], y_train.iloc[test_index]\n",
    "   \n",
    "    rfModel.fit(X_train_cv,y_train_cv)\n",
    "    y_test_pred = rfModel.predict(X_test_cv)\n",
    "\n",
    "    model = \"Random Forest CV \" + str(i)\n",
    "    i=i+1\n",
    "    results=model_evaluation_metrics(results,model,y_test_pred,y_test_cv)\n",
    "    "
   ]
  },
  {
   "cell_type": "code",
   "execution_count": 35,
   "metadata": {
    "colab": {
     "base_uri": "https://localhost:8080/",
     "height": 257
    },
    "id": "WnkF4Nz8M3NI",
    "outputId": "6eda2c62-e5a7-4bcd-ce2c-9a414cbc3076"
   },
   "outputs": [
    {
     "data": {
      "text/html": [
       "<div>\n",
       "<style scoped>\n",
       "    .dataframe tbody tr th:only-of-type {\n",
       "        vertical-align: middle;\n",
       "    }\n",
       "\n",
       "    .dataframe tbody tr th {\n",
       "        vertical-align: top;\n",
       "    }\n",
       "\n",
       "    .dataframe thead th {\n",
       "        text-align: right;\n",
       "    }\n",
       "</style>\n",
       "<table border=\"1\" class=\"dataframe\">\n",
       "  <thead>\n",
       "    <tr style=\"text-align: right;\">\n",
       "      <th></th>\n",
       "      <th>Method</th>\n",
       "      <th>Accuracy</th>\n",
       "      <th>Specificity</th>\n",
       "      <th>Sensitivity</th>\n",
       "      <th>Precision</th>\n",
       "      <th>Recall</th>\n",
       "      <th>AUC</th>\n",
       "    </tr>\n",
       "  </thead>\n",
       "  <tbody>\n",
       "    <tr>\n",
       "      <th>0</th>\n",
       "      <td>Logistitic Reg CV 0</td>\n",
       "      <td>0.977549</td>\n",
       "      <td>0.999769</td>\n",
       "      <td>0.063412</td>\n",
       "      <td>0.869565</td>\n",
       "      <td>0.063412</td>\n",
       "      <td>0.531590</td>\n",
       "    </tr>\n",
       "    <tr>\n",
       "      <th>0</th>\n",
       "      <td>Logistitic Reg CV 1</td>\n",
       "      <td>0.973140</td>\n",
       "      <td>0.999830</td>\n",
       "      <td>0.055378</td>\n",
       "      <td>0.904348</td>\n",
       "      <td>0.055378</td>\n",
       "      <td>0.527604</td>\n",
       "    </tr>\n",
       "    <tr>\n",
       "      <th>0</th>\n",
       "      <td>Logistitic Reg CV 2</td>\n",
       "      <td>0.970807</td>\n",
       "      <td>0.999907</td>\n",
       "      <td>0.052889</td>\n",
       "      <td>0.947368</td>\n",
       "      <td>0.052889</td>\n",
       "      <td>0.526398</td>\n",
       "    </tr>\n",
       "    <tr>\n",
       "      <th>0</th>\n",
       "      <td>Logistitic Reg Tuned</td>\n",
       "      <td>0.979554</td>\n",
       "      <td>0.999785</td>\n",
       "      <td>0.069930</td>\n",
       "      <td>0.878378</td>\n",
       "      <td>0.069930</td>\n",
       "      <td>0.534857</td>\n",
       "    </tr>\n",
       "    <tr>\n",
       "      <th>0</th>\n",
       "      <td>Random Forest CV 0</td>\n",
       "      <td>0.999503</td>\n",
       "      <td>0.999533</td>\n",
       "      <td>0.976744</td>\n",
       "      <td>0.730435</td>\n",
       "      <td>0.976744</td>\n",
       "      <td>0.988139</td>\n",
       "    </tr>\n",
       "    <tr>\n",
       "      <th>0</th>\n",
       "      <td>Random Forest CV 1</td>\n",
       "      <td>0.999443</td>\n",
       "      <td>0.999518</td>\n",
       "      <td>0.943182</td>\n",
       "      <td>0.721739</td>\n",
       "      <td>0.943182</td>\n",
       "      <td>0.971350</td>\n",
       "    </tr>\n",
       "    <tr>\n",
       "      <th>0</th>\n",
       "      <td>Random Forest CV 2</td>\n",
       "      <td>0.999518</td>\n",
       "      <td>0.999563</td>\n",
       "      <td>0.965909</td>\n",
       "      <td>0.745614</td>\n",
       "      <td>0.965909</td>\n",
       "      <td>0.982736</td>\n",
       "    </tr>\n",
       "  </tbody>\n",
       "</table>\n",
       "</div>"
      ],
      "text/plain": [
       "                 Method  Accuracy  Specificity  Sensitivity  Precision  \\\n",
       "0   Logistitic Reg CV 0  0.977549     0.999769     0.063412   0.869565   \n",
       "0   Logistitic Reg CV 1  0.973140     0.999830     0.055378   0.904348   \n",
       "0   Logistitic Reg CV 2  0.970807     0.999907     0.052889   0.947368   \n",
       "0  Logistitic Reg Tuned  0.979554     0.999785     0.069930   0.878378   \n",
       "0    Random Forest CV 0  0.999503     0.999533     0.976744   0.730435   \n",
       "0    Random Forest CV 1  0.999443     0.999518     0.943182   0.721739   \n",
       "0    Random Forest CV 2  0.999518     0.999563     0.965909   0.745614   \n",
       "\n",
       "     Recall       AUC  \n",
       "0  0.063412  0.531590  \n",
       "0  0.055378  0.527604  \n",
       "0  0.052889  0.526398  \n",
       "0  0.069930  0.534857  \n",
       "0  0.976744  0.988139  \n",
       "0  0.943182  0.971350  \n",
       "0  0.965909  0.982736  "
      ]
     },
     "execution_count": 35,
     "metadata": {
      "tags": []
     },
     "output_type": "execute_result"
    }
   ],
   "source": [
    "results"
   ]
  },
  {
   "cell_type": "code",
   "execution_count": null,
   "metadata": {
    "id": "s83ohW7BM3NP"
   },
   "outputs": [],
   "source": [
    "folds = StratifiedKFold(n_splits=2, shuffle=True, random_state=1)\n",
    "\n",
    "param_grid = {\n",
    "    'max_depth': [7,10],\n",
    "    'min_samples_leaf': [100,110],\n",
    "    'min_samples_split': [250, 350],\n",
    "    'n_estimators': [150], \n",
    "    'max_features': [int(round(np.sqrt(X_train.shape[1]))),14]\n",
    "}\n",
    "\n",
    "grid_search = GridSearchCV(estimator = rfModel,\n",
    "                   param_grid = param_grid,\n",
    "                   scoring = 'roc_auc',\n",
    "                   cv = folds,\n",
    "                   verbose = True,\n",
    "                   return_train_score=True,\n",
    "                   n_jobs=-1)\n",
    "\n",
    "grid_search.fit(X_train,y_train)\n",
    "final_model = grid_search.best_estimator_\n",
    "final_model.fit(X_train,y_train)\n",
    "print(' We can get best roc_auc of',grid_search.best_score_,'using',grid_search.best_params_)\n",
    "y_test_pred = final_model.predict(X_test)\n",
    "\n",
    "model = \"Random Forest Tuned \" \n",
    "\n",
    "results=model_evaluation_metrics(results,model,y_test_pred,y_test)\n"
   ]
  },
  {
   "cell_type": "code",
   "execution_count": null,
   "metadata": {
    "id": "9kmLK-70M3NW"
   },
   "outputs": [],
   "source": [
    "results"
   ]
  },
  {
   "cell_type": "markdown",
   "metadata": {},
   "source": [
    "**Summary:<br>**\n",
    "\n",
    "By observing the above evaluation metrics from both \"Logistic Regression tuned\" and \"Random Forest Tuned\",Random Forest model proved to be efficient with optimal values of Precision and Recall and an AUC score of 98% even on imbalanced dataset.<br>\n",
    "\n",
    "Logistic Regression ,on the other hand,proved to be inefficient with randomized classification with AUC score around 50% only.<br>\n",
    "\n",
    "This also makes a point that Random Forest classifiers are best suited for heavily imbalanced data.\n",
    "\n",
    "\n",
    " "
   ]
  },
  {
   "cell_type": "markdown",
   "metadata": {
    "id": "51M274WyM3N2"
   },
   "source": [
    "## Model building with balancing Classes\n",
    "\n",
    "##### Perform class balancing with :\n",
    "- Random Oversampling\n",
    "- SMOTE\n",
    "- ADASYN"
   ]
  },
  {
   "cell_type": "markdown",
   "metadata": {
    "id": "3V2iBN5QM3N7"
   },
   "source": [
    "### Random Oversampling"
   ]
  },
  {
   "cell_type": "code",
   "execution_count": null,
   "metadata": {
    "id": "UJUnvx-JM3N8"
   },
   "outputs": [],
   "source": [
    "from imblearn.over_sampling import RandomOverSampler #- import the packages\n",
    "\n",
    "X = dataset\n",
    "y = df.Class\n",
    "\n",
    "over = RandomOverSampler(random_state=42)\n",
    "\n",
    "X_train,X_test,y_train,y_test=train_test_split(X,y,train_size=0.7,stratify=y,random_state=100)\n",
    "X_train_over, y_train_over = over.fit_resample(X_train, y_train)"
   ]
  },
  {
   "cell_type": "markdown",
   "metadata": {
    "id": "1acQRbAzM3OF"
   },
   "source": [
    "### Random Oversampling - Logistic Regression "
   ]
  },
  {
   "cell_type": "code",
   "execution_count": null,
   "metadata": {
    "colab": {
     "base_uri": "https://localhost:8080/"
    },
    "id": "rQ_dS4r4M3OH",
    "outputId": "a890fa99-aef5-42be-8d10-5e3576402f3d"
   },
   "outputs": [
    {
     "name": "stdout",
     "output_type": "stream",
     "text": [
      "StratifiedKFold(n_splits=3, random_state=1, shuffle=True)\n",
      "TRAIN: [     0      1      2 ... 199359 199360 199363] TEST: [     3     14     16 ... 199357 199361 199362]\n",
      "TRAIN: [     1      3      4 ... 199357 199361 199362] TEST: [     0      2      5 ... 199359 199360 199363]\n",
      "TRAIN: [     0      2      3 ... 199361 199362 199363] TEST: [     1      4      8 ... 199354 199355 199356]\n"
     ]
    }
   ],
   "source": [
    "results = pd.DataFrame()\n",
    "logModel_over = LogisticRegression(class_weight='balanced')\n",
    "\n",
    "kf =StratifiedKFold(n_splits=3, shuffle=True, random_state=1) # Define the split - into 2 folds \n",
    "kf.get_n_splits(X_train) # returns the number of splitting iterations in the cross-validator\n",
    "print(kf)\n",
    "\n",
    "folds = StratifiedKFold(n_splits=3, shuffle=True, random_state=1)\n",
    "i=0\n",
    "for train_index, test_index in kf.split(X_train,y_train):\n",
    "    print(\"TRAIN:\", train_index, \"TEST:\", test_index)\n",
    "    \n",
    "    X_train_cv, X_test_cv =  X_train.iloc[train_index], X_train.iloc[test_index]\n",
    "    y_train_cv, y_test_cv = y_train.iloc[train_index], y_train.iloc[test_index]\n",
    "    \n",
    "    X_train_cv_over, y_train_cv_over = over.fit_resample(X_train_cv, y_train_cv)\n",
    "    \n",
    "    logModel_over.fit(X_train_cv_over,y_train_cv_over)\n",
    "    y_test_pred = logModel_over.predict(X_test_cv)\n",
    "    \n",
    "    model = \"Logistitic Reg OverSample CV\" + str(i)\n",
    "    i=i+1\n",
    "    results=model_evaluation_metrics(results,model,y_test_pred,y_test_cv)\n",
    "    "
   ]
  },
  {
   "cell_type": "code",
   "execution_count": null,
   "metadata": {
    "colab": {
     "base_uri": "https://localhost:8080/",
     "height": 137
    },
    "id": "d3rongRwM3OQ",
    "outputId": "4bb1c021-382b-4d22-83d2-b1584839dd1b"
   },
   "outputs": [
    {
     "data": {
      "text/html": [
       "<div>\n",
       "<style scoped>\n",
       "    .dataframe tbody tr th:only-of-type {\n",
       "        vertical-align: middle;\n",
       "    }\n",
       "\n",
       "    .dataframe tbody tr th {\n",
       "        vertical-align: top;\n",
       "    }\n",
       "\n",
       "    .dataframe thead th {\n",
       "        text-align: right;\n",
       "    }\n",
       "</style>\n",
       "<table border=\"1\" class=\"dataframe\">\n",
       "  <thead>\n",
       "    <tr style=\"text-align: right;\">\n",
       "      <th></th>\n",
       "      <th>Method</th>\n",
       "      <th>Accuracy</th>\n",
       "      <th>Specificity</th>\n",
       "      <th>Sensitivity</th>\n",
       "      <th>Precision</th>\n",
       "      <th>Recall</th>\n",
       "      <th>AUC</th>\n",
       "    </tr>\n",
       "  </thead>\n",
       "  <tbody>\n",
       "    <tr>\n",
       "      <th>0</th>\n",
       "      <td>Logistitic Reg OverSample CV0</td>\n",
       "      <td>0.977594</td>\n",
       "      <td>0.999769</td>\n",
       "      <td>0.063532</td>\n",
       "      <td>0.869565</td>\n",
       "      <td>0.063532</td>\n",
       "      <td>0.531651</td>\n",
       "    </tr>\n",
       "    <tr>\n",
       "      <th>0</th>\n",
       "      <td>Logistitic Reg OverSample CV1</td>\n",
       "      <td>0.972809</td>\n",
       "      <td>0.999830</td>\n",
       "      <td>0.054737</td>\n",
       "      <td>0.904348</td>\n",
       "      <td>0.054737</td>\n",
       "      <td>0.527283</td>\n",
       "    </tr>\n",
       "    <tr>\n",
       "      <th>0</th>\n",
       "      <td>Logistitic Reg OverSample CV2</td>\n",
       "      <td>0.970867</td>\n",
       "      <td>0.999907</td>\n",
       "      <td>0.052993</td>\n",
       "      <td>0.947368</td>\n",
       "      <td>0.052993</td>\n",
       "      <td>0.526450</td>\n",
       "    </tr>\n",
       "  </tbody>\n",
       "</table>\n",
       "</div>"
      ],
      "text/plain": [
       "                          Method  Accuracy  Specificity  Sensitivity  \\\n",
       "0  Logistitic Reg OverSample CV0  0.977594     0.999769     0.063532   \n",
       "0  Logistitic Reg OverSample CV1  0.972809     0.999830     0.054737   \n",
       "0  Logistitic Reg OverSample CV2  0.970867     0.999907     0.052993   \n",
       "\n",
       "   Precision    Recall       AUC  \n",
       "0   0.869565  0.063532  0.531651  \n",
       "0   0.904348  0.054737  0.527283  \n",
       "0   0.947368  0.052993  0.526450  "
      ]
     },
     "execution_count": 33,
     "metadata": {
      "tags": []
     },
     "output_type": "execute_result"
    }
   ],
   "source": [
    "results"
   ]
  },
  {
   "cell_type": "code",
   "execution_count": null,
   "metadata": {
    "colab": {
     "base_uri": "https://localhost:8080/"
    },
    "id": "1dUxWiWYM3OV",
    "outputId": "2213b2fa-e5ac-4a81-c5dd-3f35f1a726b7"
   },
   "outputs": [
    {
     "name": "stdout",
     "output_type": "stream",
     "text": [
      "Fitting 5 folds for each of 6 candidates, totalling 30 fits\n"
     ]
    },
    {
     "name": "stderr",
     "output_type": "stream",
     "text": [
      "[Parallel(n_jobs=-1)]: Using backend LokyBackend with 2 concurrent workers.\n",
      "[Parallel(n_jobs=-1)]: Done  30 out of  30 | elapsed:  1.1min finished\n"
     ]
    },
    {
     "name": "stdout",
     "output_type": "stream",
     "text": [
      "3We can get best roc_auc of 0.9882493075985908 using {'C': 0.1, 'penalty': 'l2', 'solver': 'liblinear'}\n"
     ]
    }
   ],
   "source": [
    "results = pd.DataFrame()\n",
    "\n",
    "folds = StratifiedKFold(n_splits=5, shuffle=True, random_state=1)\n",
    "\n",
    "param_grid = [\n",
    "    {'penalty' : ['l1', 'l2'],\n",
    "    'C' : [0.1,0.001,0.0001],\n",
    "    'solver' : ['liblinear']\n",
    "    }\n",
    "]\n",
    "\n",
    "grid_search = GridSearchCV(estimator = logModel_over,\n",
    "                   param_grid = param_grid,\n",
    "                   scoring = 'roc_auc',\n",
    "                   cv = folds,\n",
    "                   verbose = True,\n",
    "                   return_train_score=True,\n",
    "                   n_jobs=-1)\n",
    "\n",
    "grid_search.fit(X_train_over,y_train_over)\n",
    "\n",
    "final_model = grid_search.best_estimator_\n",
    "final_model.fit(X_train_over,y_train_over)\n",
    "print(str(i)+'We can get best roc_auc of',grid_search.best_score_,'using',grid_search.best_params_)\n",
    "y_test_pred = final_model.predict(X_test)\n",
    "\n",
    "model = \"Logistitic Reg Oversample Tuned\"\n",
    "\n",
    "results=model_evaluation_metrics(results,model,y_test_pred,y_test)"
   ]
  },
  {
   "cell_type": "code",
   "execution_count": null,
   "metadata": {
    "colab": {
     "base_uri": "https://localhost:8080/",
     "height": 77
    },
    "id": "0cNHvGqtM3Od",
    "outputId": "0f05babc-949d-4a47-d9fa-b853333afc47"
   },
   "outputs": [
    {
     "data": {
      "text/html": [
       "<div>\n",
       "<style scoped>\n",
       "    .dataframe tbody tr th:only-of-type {\n",
       "        vertical-align: middle;\n",
       "    }\n",
       "\n",
       "    .dataframe tbody tr th {\n",
       "        vertical-align: top;\n",
       "    }\n",
       "\n",
       "    .dataframe thead th {\n",
       "        text-align: right;\n",
       "    }\n",
       "</style>\n",
       "<table border=\"1\" class=\"dataframe\">\n",
       "  <thead>\n",
       "    <tr style=\"text-align: right;\">\n",
       "      <th></th>\n",
       "      <th>Method</th>\n",
       "      <th>Accuracy</th>\n",
       "      <th>Specificity</th>\n",
       "      <th>Sensitivity</th>\n",
       "      <th>Precision</th>\n",
       "      <th>Recall</th>\n",
       "      <th>AUC</th>\n",
       "    </tr>\n",
       "  </thead>\n",
       "  <tbody>\n",
       "    <tr>\n",
       "      <th>0</th>\n",
       "      <td>Logistitic Reg Oversample Tuned</td>\n",
       "      <td>0.974556</td>\n",
       "      <td>0.999808</td>\n",
       "      <td>0.057642</td>\n",
       "      <td>0.891892</td>\n",
       "      <td>0.057642</td>\n",
       "      <td>0.528725</td>\n",
       "    </tr>\n",
       "  </tbody>\n",
       "</table>\n",
       "</div>"
      ],
      "text/plain": [
       "                            Method  Accuracy  Specificity  Sensitivity  \\\n",
       "0  Logistitic Reg Oversample Tuned  0.974556     0.999808     0.057642   \n",
       "\n",
       "   Precision    Recall       AUC  \n",
       "0   0.891892  0.057642  0.528725  "
      ]
     },
     "execution_count": 35,
     "metadata": {
      "tags": []
     },
     "output_type": "execute_result"
    }
   ],
   "source": [
    "results"
   ]
  },
  {
   "cell_type": "markdown",
   "metadata": {
    "id": "RD37WJ-OM3Op"
   },
   "source": [
    "### Random Oversampling - Random Forest"
   ]
  },
  {
   "cell_type": "code",
   "execution_count": null,
   "metadata": {
    "colab": {
     "base_uri": "https://localhost:8080/"
    },
    "id": "tMX8-VZFM3Oq",
    "outputId": "13b9afa9-d811-4e71-f218-b88a662f0b41"
   },
   "outputs": [
    {
     "name": "stdout",
     "output_type": "stream",
     "text": [
      "StratifiedKFold(n_splits=3, random_state=1, shuffle=True)\n",
      "TRAIN: [     0      1      2 ... 199359 199360 199363] TEST: [     3     14     16 ... 199357 199361 199362]\n",
      "TRAIN: [     1      3      4 ... 199357 199361 199362] TEST: [     0      2      5 ... 199359 199360 199363]\n",
      "TRAIN: [     0      2      3 ... 199361 199362 199363] TEST: [     1      4      8 ... 199354 199355 199356]\n"
     ]
    }
   ],
   "source": [
    "results = pd.DataFrame()\n",
    "rfModel_over = RandomForestClassifier(random_state=0, class_weight=\"balanced\")\n",
    "\n",
    "\n",
    "kf =StratifiedKFold(n_splits=3, shuffle=True, random_state=1) # Define the split - into 2 folds \n",
    "kf.get_n_splits(X_train) # returns the number of splitting iterations in the cross-validator\n",
    "print(kf)\n",
    "\n",
    "i=0\n",
    "for train_index, test_index in kf.split(X_train,y_train):\n",
    "    print(\"TRAIN:\", train_index, \"TEST:\", test_index)\n",
    "    X_train_cv, X_test_cv =  X_train.iloc[train_index], X_train.iloc[test_index]\n",
    "    y_train_cv, y_test_cv = y_train.iloc[train_index], y_train.iloc[test_index]\n",
    "    \n",
    "    X_train_cv_over, y_train_cv_over = over.fit_resample(X_train_cv, y_train_cv)\n",
    "\n",
    "    rfModel_over.fit(X_train_cv_over,y_train_cv_over)\n",
    "    y_test_pred = rfModel_over.predict(X_test_cv)\n",
    "    \n",
    "    model = \"Random Forest Over Sampled CV\" + str(i)\n",
    "    i=i+1\n",
    "    results=model_evaluation_metrics(results,model,y_test_pred,y_test_cv)"
   ]
  },
  {
   "cell_type": "code",
   "execution_count": null,
   "metadata": {
    "colab": {
     "base_uri": "https://localhost:8080/",
     "height": 137
    },
    "id": "rkL22o1OM3Ox",
    "outputId": "8a8e187e-b444-4fef-eeb6-4f6d37efc19b"
   },
   "outputs": [
    {
     "data": {
      "text/html": [
       "<div>\n",
       "<style scoped>\n",
       "    .dataframe tbody tr th:only-of-type {\n",
       "        vertical-align: middle;\n",
       "    }\n",
       "\n",
       "    .dataframe tbody tr th {\n",
       "        vertical-align: top;\n",
       "    }\n",
       "\n",
       "    .dataframe thead th {\n",
       "        text-align: right;\n",
       "    }\n",
       "</style>\n",
       "<table border=\"1\" class=\"dataframe\">\n",
       "  <thead>\n",
       "    <tr style=\"text-align: right;\">\n",
       "      <th></th>\n",
       "      <th>Method</th>\n",
       "      <th>Accuracy</th>\n",
       "      <th>Specificity</th>\n",
       "      <th>Sensitivity</th>\n",
       "      <th>Precision</th>\n",
       "      <th>Recall</th>\n",
       "      <th>AUC</th>\n",
       "    </tr>\n",
       "  </thead>\n",
       "  <tbody>\n",
       "    <tr>\n",
       "      <th>0</th>\n",
       "      <td>Random Forest Over Sampled CV0</td>\n",
       "      <td>0.999579</td>\n",
       "      <td>0.999653</td>\n",
       "      <td>0.948454</td>\n",
       "      <td>0.800000</td>\n",
       "      <td>0.948454</td>\n",
       "      <td>0.974054</td>\n",
       "    </tr>\n",
       "    <tr>\n",
       "      <th>0</th>\n",
       "      <td>Random Forest Over Sampled CV1</td>\n",
       "      <td>0.999458</td>\n",
       "      <td>0.999563</td>\n",
       "      <td>0.924731</td>\n",
       "      <td>0.747826</td>\n",
       "      <td>0.924731</td>\n",
       "      <td>0.962147</td>\n",
       "    </tr>\n",
       "    <tr>\n",
       "      <th>0</th>\n",
       "      <td>Random Forest Over Sampled CV2</td>\n",
       "      <td>0.999549</td>\n",
       "      <td>0.999608</td>\n",
       "      <td>0.956522</td>\n",
       "      <td>0.771930</td>\n",
       "      <td>0.956522</td>\n",
       "      <td>0.978065</td>\n",
       "    </tr>\n",
       "  </tbody>\n",
       "</table>\n",
       "</div>"
      ],
      "text/plain": [
       "                           Method  Accuracy  Specificity  Sensitivity  \\\n",
       "0  Random Forest Over Sampled CV0  0.999579     0.999653     0.948454   \n",
       "0  Random Forest Over Sampled CV1  0.999458     0.999563     0.924731   \n",
       "0  Random Forest Over Sampled CV2  0.999549     0.999608     0.956522   \n",
       "\n",
       "   Precision    Recall       AUC  \n",
       "0   0.800000  0.948454  0.974054  \n",
       "0   0.747826  0.924731  0.962147  \n",
       "0   0.771930  0.956522  0.978065  "
      ]
     },
     "execution_count": 41,
     "metadata": {
      "tags": []
     },
     "output_type": "execute_result"
    }
   ],
   "source": [
    "results"
   ]
  },
  {
   "cell_type": "code",
   "execution_count": null,
   "metadata": {
    "colab": {
     "base_uri": "https://localhost:8080/"
    },
    "id": "dFwNwpZcM3O3",
    "outputId": "84c73744-4d1d-4481-d763-0738acc79657"
   },
   "outputs": [
    {
     "name": "stdout",
     "output_type": "stream",
     "text": [
      "Fitting 3 folds for each of 16 candidates, totalling 48 fits\n"
     ]
    },
    {
     "name": "stderr",
     "output_type": "stream",
     "text": [
      "[Parallel(n_jobs=-1)]: Using backend LokyBackend with 2 concurrent workers.\n"
     ]
    }
   ],
   "source": [
    "folds = StratifiedKFold(n_splits=3, shuffle=True, random_state=1)\n",
    "\n",
    "param_grid = {\n",
    "    'max_depth': [7,10],\n",
    "    'min_samples_leaf': [100,110],\n",
    "    'min_samples_split': [250, 350],\n",
    "    'n_estimators': [150], \n",
    "    'max_features': [int(round(np.sqrt(X_train_over.shape[1]))),14]\n",
    "}\n",
    "\n",
    "grid_search = GridSearchCV(estimator = rfModel_over,\n",
    "                   param_grid = param_grid,\n",
    "                   scoring = 'roc_auc',\n",
    "                   cv = folds,\n",
    "                   verbose = True,\n",
    "                   return_train_score=True,\n",
    "                   n_jobs=-1)\n",
    "\n",
    "grid_search.fit(X_train_over,y_train_over)\n",
    "final_model = grid_search.best_estimator_\n",
    "final_model.fit(X_train_over,y_train_over)\n",
    "print(' We can get best roc_auc of',grid_search.best_score_,'using',grid_search.best_params_)\n",
    "y_test_pred = final_model.predict(X_test)\n",
    "\n",
    "model = \"Random Forest Oversample Tuned \" \n",
    "\n",
    "results=model_evaluation_metrics(results,model,y_test_pred,y_test)\n"
   ]
  },
  {
   "cell_type": "code",
   "execution_count": null,
   "metadata": {
    "id": "54DU5DCOM3O9"
   },
   "outputs": [],
   "source": [
    "results"
   ]
  },
  {
   "cell_type": "markdown",
   "metadata": {},
   "source": [
    "**Summary - Oversampled data:<br>**\n",
    "    \n",
    "In this particular scenario,the datapoints from minority class have been increased using the \"Random Over Sampling\" technique.As a <br>\n",
    "part of this,the algorithm tries to create data points for the minority class simply by duplicating the data points.Here,no new information<br>\n",
    "is added.\n",
    "    \n",
    "After building models on the oversampled data and observing the above evaluation metrics from both \"Logistic Regression\" and \"Random Forest\",<br>\n",
    "Random Forest model yet again proved to be efficient with optimal values of Precision and Recall and an AUC score of 98%.<br>\n",
    "\n",
    "Logistic Regression ,on the other hand,proved to be inefficient with randomized classification with AUC score around 50% only.\n",
    "\n",
    "\n",
    " "
   ]
  },
  {
   "cell_type": "markdown",
   "metadata": {
    "id": "oxdglGQKM3PK"
   },
   "source": [
    "### SMOTE\n"
   ]
  },
  {
   "cell_type": "markdown",
   "metadata": {
    "id": "zFmR4ah7toPC"
   },
   "source": [
    "#### Printing the class distribution after applying SMOTE "
   ]
  },
  {
   "cell_type": "code",
   "execution_count": null,
   "metadata": {
    "id": "ywsy9T9CtoPD",
    "outputId": "1b26ea27-2304-473b-8a53-e1ea983ba02f"
   },
   "outputs": [
    {
     "data": {
      "text/html": [
       "<div>\n",
       "<style scoped>\n",
       "    .dataframe tbody tr th:only-of-type {\n",
       "        vertical-align: middle;\n",
       "    }\n",
       "\n",
       "    .dataframe tbody tr th {\n",
       "        vertical-align: top;\n",
       "    }\n",
       "\n",
       "    .dataframe thead th {\n",
       "        text-align: right;\n",
       "    }\n",
       "</style>\n",
       "<table border=\"1\" class=\"dataframe\">\n",
       "  <thead>\n",
       "    <tr style=\"text-align: right;\">\n",
       "      <th></th>\n",
       "      <th>V1</th>\n",
       "      <th>V2</th>\n",
       "      <th>V3</th>\n",
       "      <th>V4</th>\n",
       "      <th>V5</th>\n",
       "      <th>V6</th>\n",
       "      <th>V7</th>\n",
       "      <th>V8</th>\n",
       "      <th>V9</th>\n",
       "      <th>V10</th>\n",
       "      <th>V11</th>\n",
       "      <th>V12</th>\n",
       "      <th>V13</th>\n",
       "      <th>V14</th>\n",
       "      <th>V15</th>\n",
       "      <th>V16</th>\n",
       "      <th>V17</th>\n",
       "      <th>V18</th>\n",
       "      <th>V19</th>\n",
       "      <th>V20</th>\n",
       "      <th>V21</th>\n",
       "      <th>V22</th>\n",
       "      <th>V23</th>\n",
       "      <th>V24</th>\n",
       "      <th>V25</th>\n",
       "      <th>V26</th>\n",
       "      <th>V27</th>\n",
       "      <th>V28</th>\n",
       "      <th>scaledAmount</th>\n",
       "    </tr>\n",
       "  </thead>\n",
       "  <tbody>\n",
       "    <tr>\n",
       "      <th>199364</th>\n",
       "      <td>-0.848069</td>\n",
       "      <td>3.374639</td>\n",
       "      <td>-3.169018</td>\n",
       "      <td>4.166125</td>\n",
       "      <td>-0.477043</td>\n",
       "      <td>-1.308192</td>\n",
       "      <td>-2.937678</td>\n",
       "      <td>2.108939</td>\n",
       "      <td>-4.337704</td>\n",
       "      <td>-5.221144</td>\n",
       "      <td>4.243770</td>\n",
       "      <td>-3.570767</td>\n",
       "      <td>-0.095348</td>\n",
       "      <td>-7.556044</td>\n",
       "      <td>-0.152884</td>\n",
       "      <td>-2.614703</td>\n",
       "      <td>-3.443201</td>\n",
       "      <td>-0.073148</td>\n",
       "      <td>1.498097</td>\n",
       "      <td>0.824997</td>\n",
       "      <td>0.865008</td>\n",
       "      <td>-0.369439</td>\n",
       "      <td>0.121752</td>\n",
       "      <td>-1.244183</td>\n",
       "      <td>-0.021518</td>\n",
       "      <td>1.106095</td>\n",
       "      <td>1.322074</td>\n",
       "      <td>0.133619</td>\n",
       "      <td>-1.201024</td>\n",
       "    </tr>\n",
       "    <tr>\n",
       "      <th>199365</th>\n",
       "      <td>-2.094877</td>\n",
       "      <td>2.207376</td>\n",
       "      <td>-2.631536</td>\n",
       "      <td>2.651087</td>\n",
       "      <td>-2.942110</td>\n",
       "      <td>-1.008061</td>\n",
       "      <td>-4.055328</td>\n",
       "      <td>2.345472</td>\n",
       "      <td>-1.909853</td>\n",
       "      <td>-6.952632</td>\n",
       "      <td>3.263576</td>\n",
       "      <td>-4.383342</td>\n",
       "      <td>0.267686</td>\n",
       "      <td>-6.225459</td>\n",
       "      <td>0.077033</td>\n",
       "      <td>-5.612669</td>\n",
       "      <td>-9.864656</td>\n",
       "      <td>-4.624534</td>\n",
       "      <td>2.477587</td>\n",
       "      <td>-0.158736</td>\n",
       "      <td>1.095401</td>\n",
       "      <td>-0.358380</td>\n",
       "      <td>-0.338039</td>\n",
       "      <td>0.029090</td>\n",
       "      <td>0.092740</td>\n",
       "      <td>-0.810509</td>\n",
       "      <td>-1.129270</td>\n",
       "      <td>1.790921</td>\n",
       "      <td>0.695356</td>\n",
       "    </tr>\n",
       "    <tr>\n",
       "      <th>199366</th>\n",
       "      <td>1.226122</td>\n",
       "      <td>0.470682</td>\n",
       "      <td>-0.882879</td>\n",
       "      <td>2.436317</td>\n",
       "      <td>0.641262</td>\n",
       "      <td>0.659926</td>\n",
       "      <td>-0.332275</td>\n",
       "      <td>0.235373</td>\n",
       "      <td>-0.659504</td>\n",
       "      <td>0.393804</td>\n",
       "      <td>0.710009</td>\n",
       "      <td>-0.188551</td>\n",
       "      <td>0.433679</td>\n",
       "      <td>-2.677301</td>\n",
       "      <td>-1.083503</td>\n",
       "      <td>3.362529</td>\n",
       "      <td>0.918247</td>\n",
       "      <td>2.293160</td>\n",
       "      <td>-2.013771</td>\n",
       "      <td>-0.123739</td>\n",
       "      <td>0.033206</td>\n",
       "      <td>0.121439</td>\n",
       "      <td>0.125041</td>\n",
       "      <td>-0.367295</td>\n",
       "      <td>-0.318921</td>\n",
       "      <td>0.075131</td>\n",
       "      <td>0.079388</td>\n",
       "      <td>0.081336</td>\n",
       "      <td>-0.439335</td>\n",
       "    </tr>\n",
       "    <tr>\n",
       "      <th>199367</th>\n",
       "      <td>-1.690969</td>\n",
       "      <td>3.361109</td>\n",
       "      <td>-2.232323</td>\n",
       "      <td>3.075087</td>\n",
       "      <td>-3.051780</td>\n",
       "      <td>-0.799809</td>\n",
       "      <td>-5.556785</td>\n",
       "      <td>3.521411</td>\n",
       "      <td>-4.611577</td>\n",
       "      <td>-7.747880</td>\n",
       "      <td>2.960273</td>\n",
       "      <td>-4.276646</td>\n",
       "      <td>1.624845</td>\n",
       "      <td>-6.015512</td>\n",
       "      <td>0.662612</td>\n",
       "      <td>-6.371133</td>\n",
       "      <td>-12.835838</td>\n",
       "      <td>-5.545209</td>\n",
       "      <td>3.451008</td>\n",
       "      <td>1.019533</td>\n",
       "      <td>2.082641</td>\n",
       "      <td>0.994536</td>\n",
       "      <td>-0.134426</td>\n",
       "      <td>-0.095646</td>\n",
       "      <td>-0.101363</td>\n",
       "      <td>0.443567</td>\n",
       "      <td>1.918392</td>\n",
       "      <td>1.594070</td>\n",
       "      <td>-0.662235</td>\n",
       "    </tr>\n",
       "    <tr>\n",
       "      <th>199368</th>\n",
       "      <td>-5.974518</td>\n",
       "      <td>16.820401</td>\n",
       "      <td>-9.575413</td>\n",
       "      <td>3.794087</td>\n",
       "      <td>-14.921250</td>\n",
       "      <td>-5.435916</td>\n",
       "      <td>-16.427067</td>\n",
       "      <td>37.320568</td>\n",
       "      <td>-3.731118</td>\n",
       "      <td>-8.789544</td>\n",
       "      <td>3.374698</td>\n",
       "      <td>-3.392711</td>\n",
       "      <td>1.436130</td>\n",
       "      <td>-3.857973</td>\n",
       "      <td>-0.211048</td>\n",
       "      <td>-4.440152</td>\n",
       "      <td>-10.383677</td>\n",
       "      <td>-5.160468</td>\n",
       "      <td>0.705399</td>\n",
       "      <td>2.270874</td>\n",
       "      <td>2.390930</td>\n",
       "      <td>-3.010074</td>\n",
       "      <td>-2.283134</td>\n",
       "      <td>0.220550</td>\n",
       "      <td>4.820480</td>\n",
       "      <td>-0.369530</td>\n",
       "      <td>3.225791</td>\n",
       "      <td>1.096464</td>\n",
       "      <td>1.060474</td>\n",
       "    </tr>\n",
       "  </tbody>\n",
       "</table>\n",
       "</div>"
      ],
      "text/plain": [
       "              V1         V2        V3        V4         V5        V6  \\\n",
       "199364 -0.848069   3.374639 -3.169018  4.166125  -0.477043 -1.308192   \n",
       "199365 -2.094877   2.207376 -2.631536  2.651087  -2.942110 -1.008061   \n",
       "199366  1.226122   0.470682 -0.882879  2.436317   0.641262  0.659926   \n",
       "199367 -1.690969   3.361109 -2.232323  3.075087  -3.051780 -0.799809   \n",
       "199368 -5.974518  16.820401 -9.575413  3.794087 -14.921250 -5.435916   \n",
       "\n",
       "               V7         V8        V9       V10       V11       V12  \\\n",
       "199364  -2.937678   2.108939 -4.337704 -5.221144  4.243770 -3.570767   \n",
       "199365  -4.055328   2.345472 -1.909853 -6.952632  3.263576 -4.383342   \n",
       "199366  -0.332275   0.235373 -0.659504  0.393804  0.710009 -0.188551   \n",
       "199367  -5.556785   3.521411 -4.611577 -7.747880  2.960273 -4.276646   \n",
       "199368 -16.427067  37.320568 -3.731118 -8.789544  3.374698 -3.392711   \n",
       "\n",
       "             V13       V14       V15       V16        V17       V18       V19  \\\n",
       "199364 -0.095348 -7.556044 -0.152884 -2.614703  -3.443201 -0.073148  1.498097   \n",
       "199365  0.267686 -6.225459  0.077033 -5.612669  -9.864656 -4.624534  2.477587   \n",
       "199366  0.433679 -2.677301 -1.083503  3.362529   0.918247  2.293160 -2.013771   \n",
       "199367  1.624845 -6.015512  0.662612 -6.371133 -12.835838 -5.545209  3.451008   \n",
       "199368  1.436130 -3.857973 -0.211048 -4.440152 -10.383677 -5.160468  0.705399   \n",
       "\n",
       "             V20       V21       V22       V23       V24       V25       V26  \\\n",
       "199364  0.824997  0.865008 -0.369439  0.121752 -1.244183 -0.021518  1.106095   \n",
       "199365 -0.158736  1.095401 -0.358380 -0.338039  0.029090  0.092740 -0.810509   \n",
       "199366 -0.123739  0.033206  0.121439  0.125041 -0.367295 -0.318921  0.075131   \n",
       "199367  1.019533  2.082641  0.994536 -0.134426 -0.095646 -0.101363  0.443567   \n",
       "199368  2.270874  2.390930 -3.010074 -2.283134  0.220550  4.820480 -0.369530   \n",
       "\n",
       "             V27       V28  scaledAmount  \n",
       "199364  1.322074  0.133619     -1.201024  \n",
       "199365 -1.129270  1.790921      0.695356  \n",
       "199366  0.079388  0.081336     -0.439335  \n",
       "199367  1.918392  1.594070     -0.662235  \n",
       "199368  3.225791  1.096464      1.060474  "
      ]
     },
     "execution_count": 50,
     "metadata": {
      "tags": []
     },
     "output_type": "execute_result"
    }
   ],
   "source": [
    "import warnings\n",
    "warnings.filterwarnings(\"ignore\")\n",
    "\n",
    "\n",
    "sm = over_sampling.SMOTE(random_state=0)\n",
    "X_train_smote, y_train_smote = sm.fit_resample(X_train, y_train)\n",
    "# Artificial minority samples and corresponding minority labels from SMOTE are appended\n",
    "# below X_train and y_train respectively\n",
    "# So to exclusively get the artificial minority samples from SMOTE, we do\n",
    "X_train_smote_1 = X_train_smote[X_train.shape[0]:]\n",
    "X_train_smote_1.iloc[:, 0]"
   ]
  },
  {
   "cell_type": "code",
   "execution_count": null,
   "metadata": {
    "id": "A7f49PtWtoPJ",
    "outputId": "d101cd3b-4453-437b-bf11-ec2faddbda8e"
   },
   "outputs": [
    {
     "data": {
      "text/plain": [
       "199364   -0.848069\n",
       "199365   -2.094877\n",
       "199366    1.226122\n",
       "199367   -1.690969\n",
       "199368   -5.974518\n",
       "199369   -2.697787\n",
       "199370   -0.859061\n",
       "199371   -0.532379\n",
       "199372   -0.094365\n",
       "199373   -1.211259\n",
       "199374   -0.303383\n",
       "199375   -4.263678\n",
       "199376   -1.904816\n",
       "199377   -1.059742\n",
       "199378   -3.618663\n",
       "199379   -0.540153\n",
       "199380   -0.667751\n",
       "199381    0.260604\n",
       "199382   -2.006322\n",
       "199383    1.368573\n",
       "199384   -2.673199\n",
       "199385   -3.613411\n",
       "199386   -1.361501\n",
       "199387   -0.745333\n",
       "199388   -3.231632\n",
       "199389   -0.306215\n",
       "199390   -0.279893\n",
       "199391   -1.175722\n",
       "199392   -3.614363\n",
       "199393   -3.422981\n",
       "199394    0.123896\n",
       "199395   -2.091476\n",
       "199396    0.581877\n",
       "199397   -1.404292\n",
       "199398   -1.136312\n",
       "199399   -3.441594\n",
       "199400    0.238444\n",
       "199401   -0.902298\n",
       "199402   -0.510725\n",
       "199403   -5.869708\n",
       "199404   -1.694981\n",
       "199405   -0.229766\n",
       "199406   -0.483746\n",
       "199407   -1.383086\n",
       "199408   -0.102969\n",
       "199409   -0.314700\n",
       "199410   -1.071967\n",
       "199411   -0.279565\n",
       "199412    0.394393\n",
       "199413   -3.916405\n",
       "199414   -0.862732\n",
       "199415   -0.756375\n",
       "199416    0.996181\n",
       "199417   -0.861125\n",
       "199418   -0.204823\n",
       "199419   -5.722621\n",
       "199420   -0.142932\n",
       "199421   -1.811943\n",
       "199422   -1.584226\n",
       "199423   -0.894848\n",
       "199424   -0.325805\n",
       "199425   -0.389301\n",
       "199426   -3.337078\n",
       "199427   -2.051230\n",
       "199428   -1.229592\n",
       "199429   -1.553237\n",
       "199430   -3.487027\n",
       "199431   -5.504259\n",
       "199432   -2.025463\n",
       "199433   -0.881222\n",
       "199434   -4.552769\n",
       "199435   -1.455298\n",
       "199436   -2.696605\n",
       "199437    0.972000\n",
       "199438    0.041806\n",
       "199439   -1.180504\n",
       "199440   -0.420660\n",
       "199441   -3.965797\n",
       "199442    0.654995\n",
       "199443   -0.082820\n",
       "199444   -2.489489\n",
       "199445    0.615915\n",
       "199446   -2.180665\n",
       "199447    0.126216\n",
       "199448   -1.434873\n",
       "199449   -1.366520\n",
       "199450   -2.220771\n",
       "199451    0.114280\n",
       "199452   -1.689682\n",
       "199453   -1.037800\n",
       "199454    0.390483\n",
       "199455   -0.231824\n",
       "199456   -1.400606\n",
       "199457   -1.407365\n",
       "199458   -0.560903\n",
       "199459   -1.383875\n",
       "199460    0.591943\n",
       "199461    0.584559\n",
       "199462   -1.174832\n",
       "199463   -1.303541\n",
       "199464   -1.504975\n",
       "199465   -0.778907\n",
       "199466    0.158192\n",
       "199467   -4.163247\n",
       "199468   -0.889155\n",
       "199469    0.364725\n",
       "199470   -1.167616\n",
       "199471   -1.593522\n",
       "199472   -1.211719\n",
       "199473   -0.930284\n",
       "199474    0.151656\n",
       "199475    0.916550\n",
       "199476    0.224212\n",
       "199477   -0.841256\n",
       "199478   -1.668434\n",
       "199479   -0.938701\n",
       "199480    0.626129\n",
       "199481   -1.318370\n",
       "199482    0.123399\n",
       "199483    1.216418\n",
       "199484   -1.929545\n",
       "199485   -2.591647\n",
       "199486   -1.290105\n",
       "199487   -2.082271\n",
       "199488   -1.821067\n",
       "199489   -0.794625\n",
       "199490   -4.275928\n",
       "199491   -1.926807\n",
       "199492   -1.297745\n",
       "199493   -1.328168\n",
       "199494   -0.276741\n",
       "199495   -2.253704\n",
       "199496   -1.569305\n",
       "199497   -1.372598\n",
       "199498   -0.367967\n",
       "199499   -4.191208\n",
       "199500    0.438574\n",
       "199501   -0.962751\n",
       "199502    0.618789\n",
       "199503   -2.315221\n",
       "199504   -0.228471\n",
       "199505   -3.215055\n",
       "199506   -0.229364\n",
       "199507   -0.703159\n",
       "199508    1.474987\n",
       "199509   -5.504259\n",
       "199510   -0.151670\n",
       "199511   -0.457745\n",
       "199512   -1.184942\n",
       "199513   -0.534027\n",
       "199514   -1.379946\n",
       "199515   -5.095963\n",
       "199516   -0.367063\n",
       "199517   -0.065664\n",
       "199518   -1.827264\n",
       "199519   -2.468142\n",
       "199520    0.961010\n",
       "199521   -1.743195\n",
       "199522    0.211762\n",
       "199523    0.570115\n",
       "199524   -0.727687\n",
       "199525   -0.252020\n",
       "199526   -0.933236\n",
       "199527    1.084416\n",
       "199528   -2.469502\n",
       "199529    0.728305\n",
       "199530   -2.046223\n",
       "199531    0.478254\n",
       "199532   -2.743876\n",
       "199533   -0.905446\n",
       "199534   -2.430719\n",
       "199535   -0.805154\n",
       "199536   -2.007568\n",
       "199537   -0.346642\n",
       "199538   -0.304264\n",
       "199539   -0.927786\n",
       "199540    0.780259\n",
       "199541   -0.319002\n",
       "199542   -2.480002\n",
       "199543   -0.273608\n",
       "199544   -4.514006\n",
       "199545   -4.345593\n",
       "199546   -2.787613\n",
       "199547   -0.775445\n",
       "199548   -0.049001\n",
       "199549   -0.209341\n",
       "199550   -4.081293\n",
       "199551   -4.850023\n",
       "199552   -1.595946\n",
       "199553   -1.871156\n",
       "199554   -0.741884\n",
       "199555   -1.171238\n",
       "199556   -1.742201\n",
       "199557   -5.097370\n",
       "199558   -3.667980\n",
       "199559   -5.078926\n",
       "199560   -1.119925\n",
       "199561   -5.451860\n",
       "199562   -1.205855\n",
       "199563   -3.594820\n",
       "199564   -1.467191\n",
       "199565   -0.347658\n",
       "199566   -5.736827\n",
       "199567   -2.089834\n",
       "199568   -1.223536\n",
       "199569   -4.824102\n",
       "199570   -1.187568\n",
       "199571   -2.016048\n",
       "199572   -0.540390\n",
       "199573   -4.976528\n",
       "199574   -3.598855\n",
       "199575   -1.157934\n",
       "199576   -1.401350\n",
       "199577   -2.801230\n",
       "199578   -1.024177\n",
       "199579   -2.709367\n",
       "199580    0.049479\n",
       "199581   -0.798388\n",
       "199582   -4.639788\n",
       "199583   -1.228944\n",
       "199584    0.583581\n",
       "199585   -1.722523\n",
       "199586   -2.480950\n",
       "199587    0.971417\n",
       "199588   -4.020406\n",
       "199589   -3.343009\n",
       "199590   -0.429515\n",
       "199591   -1.557774\n",
       "199592   -0.904014\n",
       "199593   -3.557207\n",
       "199594    0.560568\n",
       "199595   -0.946428\n",
       "199596   -2.490457\n",
       "199597   -0.508454\n",
       "199598   -1.362869\n",
       "199599   -1.156774\n",
       "199600   -1.426164\n",
       "199601   -3.764790\n",
       "199602   -0.735792\n",
       "199603   -2.306199\n",
       "199604    0.604891\n",
       "199605   -0.733451\n",
       "199606   -1.387933\n",
       "199607   -3.607363\n",
       "199608   -1.946261\n",
       "199609   -2.443212\n",
       "199610   -3.962007\n",
       "199611   -3.242718\n",
       "199612   -2.082261\n",
       "199613   -2.711382\n",
       "199614   -3.532991\n",
       "199615   -0.960930\n",
       "199616   -3.654682\n",
       "199617   -0.085622\n",
       "199618    0.040035\n",
       "199619   -0.564513\n",
       "199620   -2.051317\n",
       "199621   -1.255221\n",
       "199622    0.157206\n",
       "199623   -0.610165\n",
       "199624   -0.448737\n",
       "199625   -2.310483\n",
       "199626   -0.870025\n",
       "199627   -0.470617\n",
       "199628   -5.447625\n",
       "199629   -1.221595\n",
       "199630   -1.136815\n",
       "199631   -1.299329\n",
       "199632   -0.926825\n",
       "199633   -1.480753\n",
       "199634   -0.818186\n",
       "199635   -0.535374\n",
       "199636   -0.668324\n",
       "199637   -0.353624\n",
       "199638   -0.908199\n",
       "199639   -0.449972\n",
       "199640   -1.744541\n",
       "199641   -1.300084\n",
       "199642   -1.949855\n",
       "199643   -0.395875\n",
       "199644   -0.273271\n",
       "199645   -3.654682\n",
       "199646   -0.351085\n",
       "199647   -0.014511\n",
       "199648   -5.119892\n",
       "199649    0.549756\n",
       "199650    0.681199\n",
       "199651   -2.365658\n",
       "199652   -0.864004\n",
       "199653   -2.960664\n",
       "199654   -0.094615\n",
       "199655   -1.228607\n",
       "199656    0.682043\n",
       "199657   -0.602621\n",
       "199658    0.448385\n",
       "199659   -1.234425\n",
       "199660   -0.926687\n",
       "199661    1.005364\n",
       "199662   -1.172559\n",
       "199663   -2.435311\n",
       "199664   -5.713882\n",
       "199665   -1.748423\n",
       "199666   -3.219046\n",
       "199667   -2.015604\n",
       "199668   -0.629545\n",
       "199669   -4.641312\n",
       "199670   -3.654621\n",
       "199671   -1.509816\n",
       "199672   -0.345636\n",
       "199673   -0.843351\n",
       "199674   -0.596364\n",
       "199675   -0.390559\n",
       "199676   -2.032996\n",
       "199677   -0.598949\n",
       "199678   -0.439380\n",
       "199679   -1.836869\n",
       "199680    0.456109\n",
       "199681   -1.822770\n",
       "199682   -1.386152\n",
       "199683   -1.288307\n",
       "199684   -0.478295\n",
       "199685   -1.682620\n",
       "199686   -0.817151\n",
       "199687   -1.414347\n",
       "199688   -1.015245\n",
       "199689    0.167047\n",
       "199690   -1.839087\n",
       "199691   -4.701761\n",
       "199692   -0.661918\n",
       "199693   -2.388990\n",
       "199694   -3.838163\n",
       "199695   -0.258651\n",
       "199696   -0.238789\n",
       "199697   -1.535663\n",
       "199698    1.354953\n",
       "199699   -1.464326\n",
       "199700   -0.853113\n",
       "199701    0.239055\n",
       "199702   -0.210905\n",
       "199703   -1.034731\n",
       "199704   -2.350851\n",
       "199705   -1.928836\n",
       "199706   -1.950491\n",
       "199707    1.295776\n",
       "Name: V1, dtype: float64"
      ]
     },
     "execution_count": 51,
     "metadata": {
      "tags": []
     },
     "output_type": "execute_result"
    }
   ],
   "source": [
    "import warnings\n",
    "warnings.filterwarnings(\"ignore\")\n",
    "\n",
    "\n",
    "sm = over_sampling.SMOTE(random_state=0)\n",
    "X_train_smote, y_train_smote = sm.fit_resample(X_train, y_train)\n",
    "# Artificial minority samples and corresponding minority labels from SMOTE are appended\n",
    "# below X_train and y_train respectively\n",
    "# So to exclusively get the artificial minority samples from SMOTE, we do\n",
    "X_train_smote_1 = X_train_smote[X_train.shape[0]:]\n",
    "X_train_smote_1.iloc[:X_train_1.shape[0], 0]"
   ]
  },
  {
   "cell_type": "code",
   "execution_count": 52,
   "metadata": {},
   "outputs": [
    {
     "data": {
      "text/plain": [
       "<matplotlib.legend.Legend at 0x7f321029f650>"
      ]
     },
     "execution_count": 52,
     "metadata": {},
     "output_type": "execute_result"
    },
    {
     "data": {
      "image/png": "[encoded data removed]",
      "text/plain": [
       "<Figure size 1440x1440 with 3 Axes>"
      ]
     },
     "metadata": {
      "needs_background": "light"
     },
     "output_type": "display_data"
    }
   ],
   "source": [
    "import warnings\n",
    "warnings.filterwarnings(\"ignore\")\n",
    "\n",
    "\n",
    "sm = over_sampling.SMOTE(random_state=0)\n",
    "X_train_smote, y_train_smote = sm.fit_resample(X_train, y_train)\n",
    "# Artificial minority samples and corresponding minority labels from SMOTE are appended\n",
    "# below X_train and y_train respectively\n",
    "# So to exclusively get the artificial minority samples from SMOTE, we do\n",
    "X_train_smote_1 = X_train_smote[X_train.shape[0]:]\n",
    "\n",
    "X_train_1 = X_train.to_numpy()[np.where(y_train==1.0)]\n",
    "X_train_0 = X_train.to_numpy()[np.where(y_train==0.0)]\n",
    "\n",
    "\n",
    "plt.rcParams['figure.figsize'] = [20, 20]\n",
    "fig = plt.figure()\n",
    "\n",
    "plt.subplot(3, 1, 1)\n",
    "plt.scatter(X_train_1[:, 0], X_train_1[:, 1], label='Actual Class-1 Examples')\n",
    "plt.legend()\n",
    "\n",
    "plt.subplot(3, 1, 2)\n",
    "plt.scatter(X_train_1[:, 0], X_train_1[:, 1], label='Actual Class-1 Examples')\n",
    "plt.scatter(X_train_smote_1.iloc[:X_train_1.shape[0], 0], X_train_smote_1.iloc[:X_train_1.shape[0], 1],\n",
    "            label='Artificial SMOTE Class-1 Examples')\n",
    "plt.legend()\n",
    "\n",
    "plt.subplot(3, 1, 3)\n",
    "plt.scatter(X_train_1[:, 0], X_train_1[:, 1], label='Actual Class-1 Examples')\n",
    "plt.scatter(X_train_0[:X_train_1.shape[0], 0], X_train_0[:X_train_1.shape[0], 1], label='Actual Class-0 Examples')\n",
    "plt.legend()"
   ]
  },
  {
   "cell_type": "markdown",
   "metadata": {
    "id": "1JrStarKtoPU"
   },
   "source": [
    "#### Logistic Regression (SMOTE)"
   ]
  },
  {
   "cell_type": "code",
   "execution_count": null,
   "metadata": {
    "id": "Vmaps1t9toPY",
    "outputId": "a4e7c38d-34a2-4836-d5b3-36529291e7ad"
   },
   "outputs": [
    {
     "name": "stdout",
     "output_type": "stream",
     "text": [
      "StratifiedKFold(n_splits=3, random_state=1, shuffle=True)\n",
      "TRAIN: [     0      1      2 ... 199359 199360 199363] TEST: [     3     14     16 ... 199357 199361 199362]\n",
      "TRAIN: [     1      3      4 ... 199357 199361 199362] TEST: [     0      2      5 ... 199359 199360 199363]\n",
      "TRAIN: [     0      2      3 ... 199361 199362 199363] TEST: [     1      4      8 ... 199354 199355 199356]\n"
     ]
    },
    {
     "data": {
      "text/html": [
       "<div>\n",
       "<style scoped>\n",
       "    .dataframe tbody tr th:only-of-type {\n",
       "        vertical-align: middle;\n",
       "    }\n",
       "\n",
       "    .dataframe tbody tr th {\n",
       "        vertical-align: top;\n",
       "    }\n",
       "\n",
       "    .dataframe thead th {\n",
       "        text-align: right;\n",
       "    }\n",
       "</style>\n",
       "<table border=\"1\" class=\"dataframe\">\n",
       "  <thead>\n",
       "    <tr style=\"text-align: right;\">\n",
       "      <th></th>\n",
       "      <th>Method</th>\n",
       "      <th>Accuracy</th>\n",
       "      <th>Specificity</th>\n",
       "      <th>Sensitivity</th>\n",
       "      <th>Precision</th>\n",
       "      <th>Recall</th>\n",
       "      <th>AUC</th>\n",
       "    </tr>\n",
       "  </thead>\n",
       "  <tbody>\n",
       "    <tr>\n",
       "      <th>0</th>\n",
       "      <td>Logistitic Reg SMOTE CV0</td>\n",
       "      <td>0.974885</td>\n",
       "      <td>0.999784</td>\n",
       "      <td>0.057517</td>\n",
       "      <td>0.878261</td>\n",
       "      <td>0.057517</td>\n",
       "      <td>0.528650</td>\n",
       "    </tr>\n",
       "    <tr>\n",
       "      <th>0</th>\n",
       "      <td>Logistitic Reg SMOTE CV1</td>\n",
       "      <td>0.970190</td>\n",
       "      <td>0.999845</td>\n",
       "      <td>0.050578</td>\n",
       "      <td>0.913043</td>\n",
       "      <td>0.050578</td>\n",
       "      <td>0.525211</td>\n",
       "    </tr>\n",
       "    <tr>\n",
       "      <th>0</th>\n",
       "      <td>Logistitic Reg SMOTE CV2</td>\n",
       "      <td>0.971303</td>\n",
       "      <td>0.999891</td>\n",
       "      <td>0.053313</td>\n",
       "      <td>0.938596</td>\n",
       "      <td>0.053313</td>\n",
       "      <td>0.526602</td>\n",
       "    </tr>\n",
       "  </tbody>\n",
       "</table>\n",
       "</div>"
      ],
      "text/plain": [
       "                     Method  Accuracy  Specificity  Sensitivity  Precision  \\\n",
       "0  Logistitic Reg SMOTE CV0  0.974885     0.999784     0.057517   0.878261   \n",
       "0  Logistitic Reg SMOTE CV1  0.970190     0.999845     0.050578   0.913043   \n",
       "0  Logistitic Reg SMOTE CV2  0.971303     0.999891     0.053313   0.938596   \n",
       "\n",
       "     Recall       AUC  \n",
       "0  0.057517  0.528650  \n",
       "0  0.050578  0.525211  \n",
       "0  0.053313  0.526602  "
      ]
     },
     "execution_count": 54,
     "metadata": {
      "tags": []
     },
     "output_type": "execute_result"
    }
   ],
   "source": [
    "results= pd.DataFrame()\n",
    "logModel_SMOTE = LogisticRegression(class_weight='balanced')\n",
    "\n",
    "kf =StratifiedKFold(n_splits=3, shuffle=True, random_state=1) # Define the split - into 2 folds \n",
    "kf.get_n_splits(X_train) # returns the number of splitting iterations in the cross-validator\n",
    "print(kf)\n",
    "\n",
    "folds = StratifiedKFold(n_splits=3, shuffle=True, random_state=1)\n",
    "i=0\n",
    "for train_index, test_index in kf.split(X_train,y_train):\n",
    "    print(\"TRAIN:\", train_index, \"TEST:\", test_index)\n",
    "    \n",
    "    X_train_cv, X_test_cv =  X_train.iloc[train_index], X_train.iloc[test_index]\n",
    "    y_train_cv, y_test_cv = y_train.iloc[train_index], y_train.iloc[test_index]\n",
    "    \n",
    "    X_train_cv_smote, y_train_cv_smote = sm.fit_resample(X_train_cv, y_train_cv)\n",
    "    \n",
    "    logModel_SMOTE.fit(X_train_cv_smote,y_train_cv_smote)\n",
    "    y_test_pred = logModel_SMOTE.predict(X_test_cv)\n",
    "    \n",
    "    model = \"Logistitic Reg SMOTE CV\" + str(i)\n",
    "    i=i+1\n",
    "    results=model_evaluation_metrics(results,model,y_test_pred,y_test_cv)\n",
    "    \n",
    "results"
   ]
  },
  {
   "cell_type": "code",
   "execution_count": null,
   "metadata": {
    "id": "ZE09wB3otoPl",
    "outputId": "af8ed424-6b19-462b-91ba-2c95ac1e841d"
   },
   "outputs": [
    {
     "name": "stdout",
     "output_type": "stream",
     "text": [
      "Fitting 3 folds for each of 6 candidates, totalling 18 fits\n"
     ]
    },
    {
     "name": "stderr",
     "output_type": "stream",
     "text": [
      "[Parallel(n_jobs=-1)]: Using backend LokyBackend with 4 concurrent workers.\n",
      "[Parallel(n_jobs=-1)]: Done  18 out of  18 | elapsed:   20.6s finished\n"
     ]
    },
    {
     "name": "stdout",
     "output_type": "stream",
     "text": [
      "3We can get best roc_auc of 0.9901868301496749 using {'C': 0.1, 'penalty': 'l2', 'solver': 'liblinear'}\n"
     ]
    }
   ],
   "source": [
    "folds = StratifiedKFold(n_splits=3, shuffle=True, random_state=1)\n",
    "\n",
    "param_grid = [\n",
    "    {'penalty' : ['l1', 'l2'],\n",
    "    'C' : [0.1,0.001,0.0001],\n",
    "    'solver' : ['liblinear']\n",
    "    }\n",
    "]\n",
    "\n",
    "grid_search = GridSearchCV(estimator = logModel_SMOTE,\n",
    "                   param_grid = param_grid,\n",
    "                   scoring = 'roc_auc',\n",
    "                   cv = folds,\n",
    "                   verbose = True,\n",
    "                   return_train_score=True,\n",
    "                   n_jobs=-1)\n",
    "\n",
    "grid_search.fit(X_train_smote,y_train_smote)\n",
    "\n",
    "final_model = grid_search.best_estimator_\n",
    "final_model.fit(X_train_smote,y_train_smote)\n",
    "print(str(i)+'We can get best roc_auc of',grid_search.best_score_,'using',grid_search.best_params_)\n",
    "y_test_pred = final_model.predict(X_test)\n",
    "\n",
    "model = \"Logistitic Reg SMOTE Tuned\"\n",
    "\n",
    "results=model_evaluation_metrics(results,model,y_test_pred,y_test)"
   ]
  },
  {
   "cell_type": "code",
   "execution_count": null,
   "metadata": {
    "id": "QAiXqPr2toPr",
    "outputId": "cff4f6e2-9a8f-4d61-cab6-d0416dea68ce"
   },
   "outputs": [
    {
     "data": {
      "text/html": [
       "<div>\n",
       "<style scoped>\n",
       "    .dataframe tbody tr th:only-of-type {\n",
       "        vertical-align: middle;\n",
       "    }\n",
       "\n",
       "    .dataframe tbody tr th {\n",
       "        vertical-align: top;\n",
       "    }\n",
       "\n",
       "    .dataframe thead th {\n",
       "        text-align: right;\n",
       "    }\n",
       "</style>\n",
       "<table border=\"1\" class=\"dataframe\">\n",
       "  <thead>\n",
       "    <tr style=\"text-align: right;\">\n",
       "      <th></th>\n",
       "      <th>Method</th>\n",
       "      <th>Accuracy</th>\n",
       "      <th>Specificity</th>\n",
       "      <th>Sensitivity</th>\n",
       "      <th>Precision</th>\n",
       "      <th>Recall</th>\n",
       "      <th>AUC</th>\n",
       "    </tr>\n",
       "  </thead>\n",
       "  <tbody>\n",
       "    <tr>\n",
       "      <th>0</th>\n",
       "      <td>Logistitic Reg SMOTE CV0</td>\n",
       "      <td>0.974885</td>\n",
       "      <td>0.999784</td>\n",
       "      <td>0.057517</td>\n",
       "      <td>0.878261</td>\n",
       "      <td>0.057517</td>\n",
       "      <td>0.528650</td>\n",
       "    </tr>\n",
       "    <tr>\n",
       "      <th>0</th>\n",
       "      <td>Logistitic Reg SMOTE CV1</td>\n",
       "      <td>0.970190</td>\n",
       "      <td>0.999845</td>\n",
       "      <td>0.050578</td>\n",
       "      <td>0.913043</td>\n",
       "      <td>0.050578</td>\n",
       "      <td>0.525211</td>\n",
       "    </tr>\n",
       "    <tr>\n",
       "      <th>0</th>\n",
       "      <td>Logistitic Reg SMOTE CV2</td>\n",
       "      <td>0.971303</td>\n",
       "      <td>0.999891</td>\n",
       "      <td>0.053313</td>\n",
       "      <td>0.938596</td>\n",
       "      <td>0.053313</td>\n",
       "      <td>0.526602</td>\n",
       "    </tr>\n",
       "    <tr>\n",
       "      <th>0</th>\n",
       "      <td>Logistitic Reg SMOTE Tuned</td>\n",
       "      <td>0.973795</td>\n",
       "      <td>0.999807</td>\n",
       "      <td>0.056051</td>\n",
       "      <td>0.891892</td>\n",
       "      <td>0.056051</td>\n",
       "      <td>0.527929</td>\n",
       "    </tr>\n",
       "  </tbody>\n",
       "</table>\n",
       "</div>"
      ],
      "text/plain": [
       "                       Method  Accuracy  Specificity  Sensitivity  Precision  \\\n",
       "0    Logistitic Reg SMOTE CV0  0.974885     0.999784     0.057517   0.878261   \n",
       "0    Logistitic Reg SMOTE CV1  0.970190     0.999845     0.050578   0.913043   \n",
       "0    Logistitic Reg SMOTE CV2  0.971303     0.999891     0.053313   0.938596   \n",
       "0  Logistitic Reg SMOTE Tuned  0.973795     0.999807     0.056051   0.891892   \n",
       "\n",
       "     Recall       AUC  \n",
       "0  0.057517  0.528650  \n",
       "0  0.050578  0.525211  \n",
       "0  0.053313  0.526602  \n",
       "0  0.056051  0.527929  "
      ]
     },
     "execution_count": 56,
     "metadata": {
      "tags": []
     },
     "output_type": "execute_result"
    }
   ],
   "source": [
    "results"
   ]
  },
  {
   "cell_type": "markdown",
   "metadata": {
    "id": "SLuqVhxDtoPw"
   },
   "source": [
    "#### Random Forest Classifier(SMOTE)"
   ]
  },
  {
   "cell_type": "code",
   "execution_count": null,
   "metadata": {
    "id": "Rlh4l7-ktoPx",
    "outputId": "208456b3-acd9-4d3a-8468-c8bb3cc58af8"
   },
   "outputs": [
    {
     "name": "stdout",
     "output_type": "stream",
     "text": [
      "StratifiedKFold(n_splits=3, random_state=1, shuffle=True)\n",
      "TRAIN: [     0      1      2 ... 199359 199360 199363] TEST: [     3     14     16 ... 199357 199361 199362]\n",
      "TRAIN: [     1      3      4 ... 199357 199361 199362] TEST: [     0      2      5 ... 199359 199360 199363]\n",
      "TRAIN: [     0      2      3 ... 199361 199362 199363] TEST: [     1      4      8 ... 199354 199355 199356]\n"
     ]
    }
   ],
   "source": [
    "rfModel_SMOTE = RandomForestClassifier(random_state=0, class_weight=\"balanced\")\n",
    "\n",
    "\n",
    "kf =StratifiedKFold(n_splits=3, shuffle=True, random_state=1) # Define the split - into 2 folds \n",
    "kf.get_n_splits(X_train) # returns the number of splitting iterations in the cross-validator\n",
    "print(kf)\n",
    "\n",
    "i=0\n",
    "for train_index, test_index in kf.split(X_train,y_train):\n",
    "    print(\"TRAIN:\", train_index, \"TEST:\", test_index)\n",
    "    X_train_cv, X_test_cv =  X_train.iloc[train_index], X_train.iloc[test_index]\n",
    "    y_train_cv, y_test_cv = y_train.iloc[train_index], y_train.iloc[test_index]\n",
    "    \n",
    "    X_train_cv_smote, y_train_cv_smote = sm.fit_resample(X_train_cv, y_train_cv)\n",
    "\n",
    "    rfModel_SMOTE.fit(X_train_cv_smote,y_train_cv_smote)\n",
    "    y_test_pred = rfModel_SMOTE.predict(X_test_cv)\n",
    "    \n",
    "    model = \"Random Forest SMOTE CV\" + str(i)\n",
    "    i=i+1\n",
    "    results=model_evaluation_metrics(results,model,y_test_pred,y_test_cv)"
   ]
  },
  {
   "cell_type": "code",
   "execution_count": null,
   "metadata": {
    "id": "Zei110x6toP9",
    "outputId": "49a96666-573e-4be5-f751-4a189031c73f",
    "scrolled": true
   },
   "outputs": [
    {
     "data": {
      "text/html": [
       "<div>\n",
       "<style scoped>\n",
       "    .dataframe tbody tr th:only-of-type {\n",
       "        vertical-align: middle;\n",
       "    }\n",
       "\n",
       "    .dataframe tbody tr th {\n",
       "        vertical-align: top;\n",
       "    }\n",
       "\n",
       "    .dataframe thead th {\n",
       "        text-align: right;\n",
       "    }\n",
       "</style>\n",
       "<table border=\"1\" class=\"dataframe\">\n",
       "  <thead>\n",
       "    <tr style=\"text-align: right;\">\n",
       "      <th></th>\n",
       "      <th>Method</th>\n",
       "      <th>Accuracy</th>\n",
       "      <th>Specificity</th>\n",
       "      <th>Sensitivity</th>\n",
       "      <th>Precision</th>\n",
       "      <th>Recall</th>\n",
       "      <th>AUC</th>\n",
       "    </tr>\n",
       "  </thead>\n",
       "  <tbody>\n",
       "    <tr>\n",
       "      <th>0</th>\n",
       "      <td>Logistitic Reg SMOTE CV0</td>\n",
       "      <td>0.974885</td>\n",
       "      <td>0.999784</td>\n",
       "      <td>0.057517</td>\n",
       "      <td>0.878261</td>\n",
       "      <td>0.057517</td>\n",
       "      <td>0.528650</td>\n",
       "    </tr>\n",
       "    <tr>\n",
       "      <th>0</th>\n",
       "      <td>Logistitic Reg SMOTE CV1</td>\n",
       "      <td>0.970190</td>\n",
       "      <td>0.999845</td>\n",
       "      <td>0.050578</td>\n",
       "      <td>0.913043</td>\n",
       "      <td>0.050578</td>\n",
       "      <td>0.525211</td>\n",
       "    </tr>\n",
       "    <tr>\n",
       "      <th>0</th>\n",
       "      <td>Logistitic Reg SMOTE CV2</td>\n",
       "      <td>0.971303</td>\n",
       "      <td>0.999891</td>\n",
       "      <td>0.053313</td>\n",
       "      <td>0.938596</td>\n",
       "      <td>0.053313</td>\n",
       "      <td>0.526602</td>\n",
       "    </tr>\n",
       "    <tr>\n",
       "      <th>0</th>\n",
       "      <td>Logistitic Reg SMOTE Tuned</td>\n",
       "      <td>0.973795</td>\n",
       "      <td>0.999807</td>\n",
       "      <td>0.056051</td>\n",
       "      <td>0.891892</td>\n",
       "      <td>0.056051</td>\n",
       "      <td>0.527929</td>\n",
       "    </tr>\n",
       "    <tr>\n",
       "      <th>0</th>\n",
       "      <td>Random Forest SMOTE CV0</td>\n",
       "      <td>0.999503</td>\n",
       "      <td>0.999683</td>\n",
       "      <td>0.886792</td>\n",
       "      <td>0.817391</td>\n",
       "      <td>0.886792</td>\n",
       "      <td>0.943238</td>\n",
       "    </tr>\n",
       "    <tr>\n",
       "      <th>0</th>\n",
       "      <td>Random Forest SMOTE CV1</td>\n",
       "      <td>0.999413</td>\n",
       "      <td>0.999623</td>\n",
       "      <td>0.865385</td>\n",
       "      <td>0.782609</td>\n",
       "      <td>0.865385</td>\n",
       "      <td>0.932504</td>\n",
       "    </tr>\n",
       "    <tr>\n",
       "      <th>0</th>\n",
       "      <td>Random Forest SMOTE CV2</td>\n",
       "      <td>0.999534</td>\n",
       "      <td>0.999684</td>\n",
       "      <td>0.902913</td>\n",
       "      <td>0.815789</td>\n",
       "      <td>0.902913</td>\n",
       "      <td>0.951298</td>\n",
       "    </tr>\n",
       "  </tbody>\n",
       "</table>\n",
       "</div>"
      ],
      "text/plain": [
       "                       Method  Accuracy  Specificity  Sensitivity  Precision  \\\n",
       "0    Logistitic Reg SMOTE CV0  0.974885     0.999784     0.057517   0.878261   \n",
       "0    Logistitic Reg SMOTE CV1  0.970190     0.999845     0.050578   0.913043   \n",
       "0    Logistitic Reg SMOTE CV2  0.971303     0.999891     0.053313   0.938596   \n",
       "0  Logistitic Reg SMOTE Tuned  0.973795     0.999807     0.056051   0.891892   \n",
       "0     Random Forest SMOTE CV0  0.999503     0.999683     0.886792   0.817391   \n",
       "0     Random Forest SMOTE CV1  0.999413     0.999623     0.865385   0.782609   \n",
       "0     Random Forest SMOTE CV2  0.999534     0.999684     0.902913   0.815789   \n",
       "\n",
       "     Recall       AUC  \n",
       "0  0.057517  0.528650  \n",
       "0  0.050578  0.525211  \n",
       "0  0.053313  0.526602  \n",
       "0  0.056051  0.527929  \n",
       "0  0.886792  0.943238  \n",
       "0  0.865385  0.932504  \n",
       "0  0.902913  0.951298  "
      ]
     },
     "execution_count": 59,
     "metadata": {
      "tags": []
     },
     "output_type": "execute_result"
    }
   ],
   "source": [
    "results"
   ]
  },
  {
   "cell_type": "markdown",
   "metadata": {},
   "source": [
    "**Summary - Sampled using SMOTE:<br>**\n",
    "    \n",
    "In this particular scenario,new synthetic data points for the minority class are created by an oversampling technique call SMOTE where the new datapoints lie vectorially between the existing minority class data points.\n",
    "    \n",
    "After building models on the oversampled data and observing the above evaluation metrics from both \"Logistic Regression\" and \"Random Forest\",<br>\n",
    "Random Forest model yet again proved to be efficient with optimal values of Precision and Recall and an AUC score of 95% \n",
    "\n",
    "Logistic Regression even after tuning ,on the other hand,proved to be inefficient with randomized classification with AUC score around 50% only.\n",
    "\n",
    "\n",
    " "
   ]
  },
  {
   "cell_type": "code",
   "execution_count": 44,
   "metadata": {
    "colab": {
     "base_uri": "https://localhost:8080/"
    },
    "id": "sILnxDiKM3P3",
    "outputId": "b103b998-762f-48ff-de7b-e43c7f9295c1"
   },
   "outputs": [
    {
     "name": "stdout",
     "output_type": "stream",
     "text": [
      "0.4.3\n",
      "Fitting 3 folds for each of 16 candidates, totalling 48 fits\n"
     ]
    },
    {
     "name": "stderr",
     "output_type": "stream",
     "text": [
      "[Parallel(n_jobs=-1)]: Using backend LokyBackend with 2 concurrent workers.\n",
      "[Parallel(n_jobs=-1)]: Done  48 out of  48 | elapsed: 64.9min finished\n"
     ]
    },
    {
     "name": "stdout",
     "output_type": "stream",
     "text": [
      " We can get best roc_auc of 0.998768052905039 using {'max_depth': 10, 'max_features': 14, 'min_samples_leaf': 100, 'min_samples_split': 250, 'n_estimators': 150}\n"
     ]
    }
   ],
   "source": [
    "results = pd.DataFrame()\n",
    "from imblearn.under_sampling import RandomUnderSampler\n",
    "import imblearn\n",
    "from imblearn.over_sampling import SMOTE\n",
    "print(imblearn.__version__)\n",
    "\n",
    "rfModel_SMOTE = RandomForestClassifier(random_state=0, class_weight=\"balanced\")\n",
    "\n",
    "over = SMOTE(sampling_strategy=0.3,random_state=100)\n",
    "#over = SMOTE(sampling_strategy=0.1)\n",
    "under = RandomUnderSampler(sampling_strategy=0.8,random_state=100)\n",
    "\n",
    "X_train,X_test,y_train,y_test=train_test_split(X,y,train_size=0.7,stratify=y,random_state=100)\n",
    "train_cols=X_train.columns\n",
    "X_train_smote, y_train_smote = over.fit_resample(X_train, y_train)\n",
    "X_train_under, y_train_under = under.fit_resample(X_train_smote, y_train_smote)\n",
    "\n",
    "folds = StratifiedKFold(n_splits=3, shuffle=True, random_state=1)\n",
    "\n",
    "param_grid = {\n",
    "    'max_depth': [7,10],\n",
    "    'min_samples_leaf': [100,110],\n",
    "    'min_samples_split': [250, 350],\n",
    "    'n_estimators': [150], \n",
    "    'max_features': [int(round(np.sqrt(X_train_under.shape[1]))),14]\n",
    "}\n",
    "\n",
    "grid_search = GridSearchCV(estimator = rfModel_SMOTE,\n",
    "                   param_grid = param_grid,\n",
    "                   scoring = 'roc_auc',\n",
    "                   cv = folds,\n",
    "                   verbose = True,\n",
    "                   return_train_score=True,\n",
    "                   n_jobs=-1)\n",
    "\n",
    "grid_search.fit(X_train_under,y_train_under)\n",
    "final_model = grid_search.best_estimator_\n",
    "final_model.fit(X_train_under,y_train_under)\n",
    "print(' We can get best roc_auc of',grid_search.best_score_,'using',grid_search.best_params_)\n",
    "y_test_pred = final_model.predict(X_test)\n",
    "\n",
    "model = \"Random Forest SMOTE Tuned \" \n",
    "\n",
    "results=model_evaluation_metrics(results,model,y_test_pred,y_test)"
   ]
  },
  {
   "cell_type": "code",
   "execution_count": 45,
   "metadata": {
    "colab": {
     "base_uri": "https://localhost:8080/",
     "height": 75
    },
    "id": "K9-l0sxr1YsV",
    "outputId": "28cbeba1-c7a8-4a93-a248-6fe260ba2e2a"
   },
   "outputs": [
    {
     "data": {
      "text/html": [
       "<div>\n",
       "<style scoped>\n",
       "    .dataframe tbody tr th:only-of-type {\n",
       "        vertical-align: middle;\n",
       "    }\n",
       "\n",
       "    .dataframe tbody tr th {\n",
       "        vertical-align: top;\n",
       "    }\n",
       "\n",
       "    .dataframe thead th {\n",
       "        text-align: right;\n",
       "    }\n",
       "</style>\n",
       "<table border=\"1\" class=\"dataframe\">\n",
       "  <thead>\n",
       "    <tr style=\"text-align: right;\">\n",
       "      <th></th>\n",
       "      <th>Method</th>\n",
       "      <th>Accuracy</th>\n",
       "      <th>Specificity</th>\n",
       "      <th>Sensitivity</th>\n",
       "      <th>Precision</th>\n",
       "      <th>Recall</th>\n",
       "      <th>AUC</th>\n",
       "    </tr>\n",
       "  </thead>\n",
       "  <tbody>\n",
       "    <tr>\n",
       "      <th>0</th>\n",
       "      <td>Random Forest SMOTE Tuned</td>\n",
       "      <td>0.994265</td>\n",
       "      <td>0.999764</td>\n",
       "      <td>0.214047</td>\n",
       "      <td>0.864865</td>\n",
       "      <td>0.214047</td>\n",
       "      <td>0.606906</td>\n",
       "    </tr>\n",
       "  </tbody>\n",
       "</table>\n",
       "</div>"
      ],
      "text/plain": [
       "                       Method  Accuracy  Specificity  Sensitivity  Precision  \\\n",
       "0  Random Forest SMOTE Tuned   0.994265     0.999764     0.214047   0.864865   \n",
       "\n",
       "     Recall       AUC  \n",
       "0  0.214047  0.606906  "
      ]
     },
     "execution_count": 45,
     "metadata": {
      "tags": []
     },
     "output_type": "execute_result"
    }
   ],
   "source": [
    "results"
   ]
  },
  {
   "cell_type": "code",
   "execution_count": null,
   "metadata": {
    "id": "XEYLzP4Z2wOB"
   },
   "outputs": [],
   "source": [
    "\n",
    "folds = StratifiedKFold(n_splits=3, shuffle=True, random_state=1)\n",
    "\n",
    "sampled_df =pd.DataFrame(X_train_under,y_train_under).reset_index()\n",
    "sampled_df['Class'].value_counts(normalize=True)\n",
    "\n",
    "param_grid = {\n",
    "    'max_depth': [7,10],\n",
    "    'min_samples_leaf': [100,110],\n",
    "    'min_samples_split': [250, 350],\n",
    "    'n_estimators': [150], \n",
    "    'max_features': [int(round(np.sqrt(X_train_under.shape[1]))),14]\n",
    "}\n",
    "\n",
    "grid_search = GridSearchCV(estimator = rfModel_SMOTE,\n",
    "                   param_grid = param_grid,\n",
    "                   scoring = 'roc_auc',\n",
    "                   cv = folds,\n",
    "                   verbose = True,\n",
    "                   return_train_score=True,\n",
    "                   n_jobs=-1)\n",
    "\n",
    "grid_search.fit(X_train_under,y_train_under)\n",
    "final_model = grid_search.best_estimator_\n",
    "final_model.fit(X_train_under,y_train_under)\n",
    "print(' We can get best roc_auc of',grid_search.best_score_,'using',grid_search.best_params_)\n",
    "y_test_pred = final_model.predict(X_test)\n",
    "\n",
    "model = \"Random Forest SMOTE Tuned \" \n",
    "\n",
    "results=model_evaluation_metrics(results,model,y_test_pred,y_test)"
   ]
  },
  {
   "cell_type": "markdown",
   "metadata": {
    "id": "9H6c-6bZtoQQ"
   },
   "source": [
    "#### Printing the class distribution after applying ADASYN"
   ]
  },
  {
   "cell_type": "code",
   "execution_count": null,
   "metadata": {
    "id": "91nPKUYVtoQR",
    "outputId": "c1c0b296-51ad-451e-8408-609377a5890a"
   },
   "outputs": [
    {
     "data": {
      "text/plain": [
       "<matplotlib.legend.Legend at 0x7f32120b89d0>"
      ]
     },
     "execution_count": 60,
     "metadata": {
      "tags": []
     },
     "output_type": "execute_result"
    },
    {
     "data": {
      "image/png": "[encoded data removed]",
      "text/plain": [
       "<Figure size 1440x1440 with 3 Axes>"
      ]
     },
     "metadata": {
      "needs_background": "light",
      "tags": []
     },
     "output_type": "display_data"
    }
   ],
   "source": [
    "import warnings\n",
    "warnings.filterwarnings(\"ignore\")\n",
    "\n",
    "from imblearn import over_sampling\n",
    "\n",
    "ada = over_sampling.ADASYN(random_state=0)\n",
    "X_train_adasyn, y_train_adasyn = ada.fit_resample(X_train, y_train)\n",
    "# Artificial minority samples and corresponding minority labels from ADASYN are appended\n",
    "# below X_train and y_train respectively\n",
    "# So to exclusively get the artificial minority samples from ADASYN, we do\n",
    "X_train_adasyn_1 = X_train_adasyn[X_train.shape[0]:]\n",
    "\n",
    "X_train_1 = X_train.to_numpy()[np.where(y_train==1.0)]\n",
    "X_train_0 = X_train.to_numpy()[np.where(y_train==0.0)]\n",
    "\n",
    "\n",
    "\n",
    "import matplotlib.pyplot as plt\n",
    "%matplotlib inline\n",
    "plt.rcParams['figure.figsize'] = [20, 20]\n",
    "fig = plt.figure()\n",
    "\n",
    "plt.subplot(3, 1, 1)\n",
    "plt.scatter(X_train_1[:, 0], X_train_1[:, 1], label='Actual Class-1 Examples')\n",
    "plt.legend()\n",
    "\n",
    "plt.subplot(3, 1, 2)\n",
    "plt.scatter(X_train_1[:, 0], X_train_1[:, 1], label='Actual Class-1 Examples')\n",
    "plt.scatter(X_train_adasyn_1.iloc[:X_train_1.shape[0], 0], X_train_adasyn_1.iloc[:X_train_1.shape[0], 1], label='Artificial ADASYN Class-1 Examples')\n",
    "plt.legend()\n",
    "\n",
    "plt.subplot(3, 1, 3)\n",
    "plt.scatter(X_train_1[:, 0], X_train_1[:, 1], label='Actual Class-1 Examples')\n",
    "plt.scatter(X_train_0[:X_train_1.shape[0], 0], X_train_0[:X_train_1.shape[0], 1], label='Actual Class-0 Examples')\n",
    "plt.legend()"
   ]
  },
  {
   "cell_type": "markdown",
   "metadata": {
    "id": "wYZVYUi8toQV"
   },
   "source": [
    "### Logistic Regression(ADASYN)"
   ]
  },
  {
   "cell_type": "code",
   "execution_count": null,
   "metadata": {
    "id": "BPgjw33EtoQW",
    "outputId": "40ecd366-812d-403a-f4c3-473726ce50be"
   },
   "outputs": [
    {
     "name": "stdout",
     "output_type": "stream",
     "text": [
      "StratifiedKFold(n_splits=3, random_state=1, shuffle=True)\n",
      "TRAIN: [     0      1      2 ... 199359 199360 199363] TEST: [     3     14     16 ... 199357 199361 199362]\n",
      "TRAIN: [     1      3      4 ... 199357 199361 199362] TEST: [     0      2      5 ... 199359 199360 199363]\n",
      "TRAIN: [     0      2      3 ... 199361 199362 199363] TEST: [     1      4      8 ... 199354 199355 199356]\n"
     ]
    },
    {
     "data": {
      "text/html": [
       "<div>\n",
       "<style scoped>\n",
       "    .dataframe tbody tr th:only-of-type {\n",
       "        vertical-align: middle;\n",
       "    }\n",
       "\n",
       "    .dataframe tbody tr th {\n",
       "        vertical-align: top;\n",
       "    }\n",
       "\n",
       "    .dataframe thead th {\n",
       "        text-align: right;\n",
       "    }\n",
       "</style>\n",
       "<table border=\"1\" class=\"dataframe\">\n",
       "  <thead>\n",
       "    <tr style=\"text-align: right;\">\n",
       "      <th></th>\n",
       "      <th>Method</th>\n",
       "      <th>Accuracy</th>\n",
       "      <th>Specificity</th>\n",
       "      <th>Sensitivity</th>\n",
       "      <th>Precision</th>\n",
       "      <th>Recall</th>\n",
       "      <th>AUC</th>\n",
       "    </tr>\n",
       "  </thead>\n",
       "  <tbody>\n",
       "    <tr>\n",
       "      <th>0</th>\n",
       "      <td>Logistitic Reg ADA CV0</td>\n",
       "      <td>0.935550</td>\n",
       "      <td>0.999775</td>\n",
       "      <td>0.023112</td>\n",
       "      <td>0.878261</td>\n",
       "      <td>0.023112</td>\n",
       "      <td>0.511443</td>\n",
       "    </tr>\n",
       "    <tr>\n",
       "      <th>0</th>\n",
       "      <td>Logistitic Reg ADA CV1</td>\n",
       "      <td>0.915582</td>\n",
       "      <td>0.999885</td>\n",
       "      <td>0.018911</td>\n",
       "      <td>0.939130</td>\n",
       "      <td>0.018911</td>\n",
       "      <td>0.509398</td>\n",
       "    </tr>\n",
       "    <tr>\n",
       "      <th>0</th>\n",
       "      <td>Logistitic Reg ADA CV2</td>\n",
       "      <td>0.911458</td>\n",
       "      <td>0.999934</td>\n",
       "      <td>0.018364</td>\n",
       "      <td>0.964912</td>\n",
       "      <td>0.018364</td>\n",
       "      <td>0.509149</td>\n",
       "    </tr>\n",
       "  </tbody>\n",
       "</table>\n",
       "</div>"
      ],
      "text/plain": [
       "                   Method  Accuracy  Specificity  Sensitivity  Precision  \\\n",
       "0  Logistitic Reg ADA CV0  0.935550     0.999775     0.023112   0.878261   \n",
       "0  Logistitic Reg ADA CV1  0.915582     0.999885     0.018911   0.939130   \n",
       "0  Logistitic Reg ADA CV2  0.911458     0.999934     0.018364   0.964912   \n",
       "\n",
       "     Recall       AUC  \n",
       "0  0.023112  0.511443  \n",
       "0  0.018911  0.509398  \n",
       "0  0.018364  0.509149  "
      ]
     },
     "execution_count": 61,
     "metadata": {
      "tags": []
     },
     "output_type": "execute_result"
    }
   ],
   "source": [
    "results= pd.DataFrame()\n",
    "logModel_ADASYN = LogisticRegression(class_weight='balanced')\n",
    "\n",
    "kf =StratifiedKFold(n_splits=3, shuffle=True, random_state=1) # Define the split - into 2 folds \n",
    "kf.get_n_splits(X_train) # returns the number of splitting iterations in the cross-validator\n",
    "print(kf)\n",
    "\n",
    "folds = StratifiedKFold(n_splits=3, shuffle=True, random_state=1)\n",
    "i=0\n",
    "for train_index, test_index in kf.split(X_train,y_train):\n",
    "    print(\"TRAIN:\", train_index, \"TEST:\", test_index)\n",
    "    \n",
    "    X_train_cv, X_test_cv =  X_train.iloc[train_index], X_train.iloc[test_index]\n",
    "    y_train_cv, y_test_cv = y_train.iloc[train_index], y_train.iloc[test_index]\n",
    "    \n",
    "    X_train_cv_adasyn, y_train_cv_adasyn = ada.fit_resample(X_train_cv, y_train_cv)\n",
    "    \n",
    "    logModel_ADASYN.fit(X_train_cv_adasyn,y_train_cv_adasyn)\n",
    "    y_test_pred = logModel_ADASYN.predict(X_test_cv)\n",
    "    \n",
    "    model = \"Logistitic Reg ADA CV\" + str(i)\n",
    "    i=i+1\n",
    "    results=model_evaluation_metrics(results,model,y_test_pred,y_test_cv)\n",
    "    \n",
    "results"
   ]
  },
  {
   "cell_type": "code",
   "execution_count": null,
   "metadata": {
    "id": "twBOnzVVtoQc",
    "outputId": "bff80c40-82b1-4eff-ac07-1b4ba0fc0bff"
   },
   "outputs": [
    {
     "name": "stdout",
     "output_type": "stream",
     "text": [
      "Fitting 3 folds for each of 6 candidates, totalling 18 fits\n"
     ]
    },
    {
     "name": "stderr",
     "output_type": "stream",
     "text": [
      "[Parallel(n_jobs=-1)]: Using backend LokyBackend with 4 concurrent workers.\n",
      "[Parallel(n_jobs=-1)]: Done  18 out of  18 | elapsed:   26.5s finished\n"
     ]
    },
    {
     "name": "stdout",
     "output_type": "stream",
     "text": [
      "3We can get best roc_auc of 0.9662305232562503 using {'C': 0.1, 'penalty': 'l2', 'solver': 'liblinear'}\n"
     ]
    },
    {
     "data": {
      "text/html": [
       "<div>\n",
       "<style scoped>\n",
       "    .dataframe tbody tr th:only-of-type {\n",
       "        vertical-align: middle;\n",
       "    }\n",
       "\n",
       "    .dataframe tbody tr th {\n",
       "        vertical-align: top;\n",
       "    }\n",
       "\n",
       "    .dataframe thead th {\n",
       "        text-align: right;\n",
       "    }\n",
       "</style>\n",
       "<table border=\"1\" class=\"dataframe\">\n",
       "  <thead>\n",
       "    <tr style=\"text-align: right;\">\n",
       "      <th></th>\n",
       "      <th>Method</th>\n",
       "      <th>Accuracy</th>\n",
       "      <th>Specificity</th>\n",
       "      <th>Sensitivity</th>\n",
       "      <th>Precision</th>\n",
       "      <th>Recall</th>\n",
       "      <th>AUC</th>\n",
       "    </tr>\n",
       "  </thead>\n",
       "  <tbody>\n",
       "    <tr>\n",
       "      <th>0</th>\n",
       "      <td>Logistitic Reg ADA CV0</td>\n",
       "      <td>0.935550</td>\n",
       "      <td>0.999775</td>\n",
       "      <td>0.023112</td>\n",
       "      <td>0.878261</td>\n",
       "      <td>0.023112</td>\n",
       "      <td>0.511443</td>\n",
       "    </tr>\n",
       "    <tr>\n",
       "      <th>0</th>\n",
       "      <td>Logistitic Reg ADA CV1</td>\n",
       "      <td>0.915582</td>\n",
       "      <td>0.999885</td>\n",
       "      <td>0.018911</td>\n",
       "      <td>0.939130</td>\n",
       "      <td>0.018911</td>\n",
       "      <td>0.509398</td>\n",
       "    </tr>\n",
       "    <tr>\n",
       "      <th>0</th>\n",
       "      <td>Logistitic Reg ADA CV2</td>\n",
       "      <td>0.911458</td>\n",
       "      <td>0.999934</td>\n",
       "      <td>0.018364</td>\n",
       "      <td>0.964912</td>\n",
       "      <td>0.018364</td>\n",
       "      <td>0.509149</td>\n",
       "    </tr>\n",
       "    <tr>\n",
       "      <th>0</th>\n",
       "      <td>Logistitic Reg ADA Tuned</td>\n",
       "      <td>0.911204</td>\n",
       "      <td>0.999871</td>\n",
       "      <td>0.017887</td>\n",
       "      <td>0.932432</td>\n",
       "      <td>0.017887</td>\n",
       "      <td>0.508879</td>\n",
       "    </tr>\n",
       "  </tbody>\n",
       "</table>\n",
       "</div>"
      ],
      "text/plain": [
       "                     Method  Accuracy  Specificity  Sensitivity  Precision  \\\n",
       "0    Logistitic Reg ADA CV0  0.935550     0.999775     0.023112   0.878261   \n",
       "0    Logistitic Reg ADA CV1  0.915582     0.999885     0.018911   0.939130   \n",
       "0    Logistitic Reg ADA CV2  0.911458     0.999934     0.018364   0.964912   \n",
       "0  Logistitic Reg ADA Tuned  0.911204     0.999871     0.017887   0.932432   \n",
       "\n",
       "     Recall       AUC  \n",
       "0  0.023112  0.511443  \n",
       "0  0.018911  0.509398  \n",
       "0  0.018364  0.509149  \n",
       "0  0.017887  0.508879  "
      ]
     },
     "execution_count": 62,
     "metadata": {
      "tags": []
     },
     "output_type": "execute_result"
    }
   ],
   "source": [
    "folds = StratifiedKFold(n_splits=3, shuffle=True, random_state=1)\n",
    "\n",
    "param_grid = [\n",
    "    {'penalty' : ['l1', 'l2'],\n",
    "    'C' : [0.1,0.001,0.0001],\n",
    "    'solver' : ['liblinear']\n",
    "    }\n",
    "]\n",
    "\n",
    "grid_search = GridSearchCV(estimator = logModel_ADASYN,\n",
    "                   param_grid = param_grid,\n",
    "                   scoring = 'roc_auc',\n",
    "                   cv = folds,\n",
    "                   verbose = True,\n",
    "                   return_train_score=True,\n",
    "                   n_jobs=-1)\n",
    "\n",
    "grid_search.fit(X_train_adasyn, y_train_adasyn)\n",
    "\n",
    "final_model = grid_search.best_estimator_\n",
    "final_model.fit(X_train_adasyn, y_train_adasyn)\n",
    "print(str(i)+'We can get best roc_auc of',grid_search.best_score_,'using',grid_search.best_params_)\n",
    "y_test_pred = final_model.predict(X_test)\n",
    "\n",
    "model = \"Logistitic Reg ADA Tuned\"\n",
    "\n",
    "results=model_evaluation_metrics(results,model,y_test_pred,y_test)\n",
    "\n",
    "results"
   ]
  },
  {
   "cell_type": "markdown",
   "metadata": {
    "id": "N0uuXJpxtoQg"
   },
   "source": [
    "### Random Forest Classifier(ADASYN)"
   ]
  },
  {
   "cell_type": "code",
   "execution_count": null,
   "metadata": {
    "id": "ryB_7qQ6toQg",
    "outputId": "41ea0525-6e64-4737-c1a6-78c34a428ccd"
   },
   "outputs": [
    {
     "name": "stdout",
     "output_type": "stream",
     "text": [
      "StratifiedKFold(n_splits=3, random_state=1, shuffle=True)\n",
      "TRAIN: [     0      1      2 ... 199359 199360 199363] TEST: [     3     14     16 ... 199357 199361 199362]\n",
      "TRAIN: [     1      3      4 ... 199357 199361 199362] TEST: [     0      2      5 ... 199359 199360 199363]\n",
      "TRAIN: [     0      2      3 ... 199361 199362 199363] TEST: [     1      4      8 ... 199354 199355 199356]\n"
     ]
    }
   ],
   "source": [
    "rfModel_ADA = RandomForestClassifier(random_state=0, class_weight=\"balanced\")\n",
    "\n",
    "\n",
    "kf =StratifiedKFold(n_splits=3, shuffle=True, random_state=1) # Define the split - into 2 folds \n",
    "kf.get_n_splits(X_train) # returns the number of splitting iterations in the cross-validator\n",
    "print(kf)\n",
    "\n",
    "i=0\n",
    "for train_index, test_index in kf.split(X_train,y_train):\n",
    "    print(\"TRAIN:\", train_index, \"TEST:\", test_index)\n",
    "    X_train_cv, X_test_cv =  X_train.iloc[train_index], X_train.iloc[test_index]\n",
    "    y_train_cv, y_test_cv = y_train.iloc[train_index], y_train.iloc[test_index]\n",
    "    \n",
    "    X_train_cv_adasyn, y_train_cv_adasyn = ada.fit_resample(X_train_cv, y_train_cv)\n",
    "\n",
    "    rfModel_ADA.fit(X_train_cv_adasyn,y_train_cv_adasyn)\n",
    "    y_test_pred = rfModel_ADA.predict(X_test_cv)\n",
    "    \n",
    "    model = \"Random Forest ADA CV\" + str(i)\n",
    "    i=i+1\n",
    "    results=model_evaluation_metrics(results,model,y_test_pred,y_test_cv)"
   ]
  },
  {
   "cell_type": "code",
   "execution_count": null,
   "metadata": {
    "id": "DRZPpVxhtoQl",
    "outputId": "e90418b7-915b-4881-beba-d64fd86cea9f"
   },
   "outputs": [
    {
     "data": {
      "text/html": [
       "<div>\n",
       "<style scoped>\n",
       "    .dataframe tbody tr th:only-of-type {\n",
       "        vertical-align: middle;\n",
       "    }\n",
       "\n",
       "    .dataframe tbody tr th {\n",
       "        vertical-align: top;\n",
       "    }\n",
       "\n",
       "    .dataframe thead th {\n",
       "        text-align: right;\n",
       "    }\n",
       "</style>\n",
       "<table border=\"1\" class=\"dataframe\">\n",
       "  <thead>\n",
       "    <tr style=\"text-align: right;\">\n",
       "      <th></th>\n",
       "      <th>Method</th>\n",
       "      <th>Accuracy</th>\n",
       "      <th>Specificity</th>\n",
       "      <th>Sensitivity</th>\n",
       "      <th>Precision</th>\n",
       "      <th>Recall</th>\n",
       "      <th>AUC</th>\n",
       "    </tr>\n",
       "  </thead>\n",
       "  <tbody>\n",
       "    <tr>\n",
       "      <th>0</th>\n",
       "      <td>Logistitic Reg ADA CV0</td>\n",
       "      <td>0.935550</td>\n",
       "      <td>0.999775</td>\n",
       "      <td>0.023112</td>\n",
       "      <td>0.878261</td>\n",
       "      <td>0.023112</td>\n",
       "      <td>0.511443</td>\n",
       "    </tr>\n",
       "    <tr>\n",
       "      <th>0</th>\n",
       "      <td>Logistitic Reg ADA CV1</td>\n",
       "      <td>0.915582</td>\n",
       "      <td>0.999885</td>\n",
       "      <td>0.018911</td>\n",
       "      <td>0.939130</td>\n",
       "      <td>0.018911</td>\n",
       "      <td>0.509398</td>\n",
       "    </tr>\n",
       "    <tr>\n",
       "      <th>0</th>\n",
       "      <td>Logistitic Reg ADA CV2</td>\n",
       "      <td>0.911458</td>\n",
       "      <td>0.999934</td>\n",
       "      <td>0.018364</td>\n",
       "      <td>0.964912</td>\n",
       "      <td>0.018364</td>\n",
       "      <td>0.509149</td>\n",
       "    </tr>\n",
       "    <tr>\n",
       "      <th>0</th>\n",
       "      <td>Logistitic Reg ADA Tuned</td>\n",
       "      <td>0.911204</td>\n",
       "      <td>0.999871</td>\n",
       "      <td>0.017887</td>\n",
       "      <td>0.932432</td>\n",
       "      <td>0.017887</td>\n",
       "      <td>0.508879</td>\n",
       "    </tr>\n",
       "    <tr>\n",
       "      <th>0</th>\n",
       "      <td>Random Forest ADA CV0</td>\n",
       "      <td>0.999458</td>\n",
       "      <td>0.999668</td>\n",
       "      <td>0.869159</td>\n",
       "      <td>0.808696</td>\n",
       "      <td>0.869159</td>\n",
       "      <td>0.934414</td>\n",
       "    </tr>\n",
       "    <tr>\n",
       "      <th>0</th>\n",
       "      <td>Random Forest ADA CV1</td>\n",
       "      <td>0.999413</td>\n",
       "      <td>0.999623</td>\n",
       "      <td>0.865385</td>\n",
       "      <td>0.782609</td>\n",
       "      <td>0.865385</td>\n",
       "      <td>0.932504</td>\n",
       "    </tr>\n",
       "    <tr>\n",
       "      <th>0</th>\n",
       "      <td>Random Forest ADA CV2</td>\n",
       "      <td>0.999488</td>\n",
       "      <td>0.999668</td>\n",
       "      <td>0.884615</td>\n",
       "      <td>0.807018</td>\n",
       "      <td>0.884615</td>\n",
       "      <td>0.942142</td>\n",
       "    </tr>\n",
       "  </tbody>\n",
       "</table>\n",
       "</div>"
      ],
      "text/plain": [
       "                     Method  Accuracy  Specificity  Sensitivity  Precision  \\\n",
       "0    Logistitic Reg ADA CV0  0.935550     0.999775     0.023112   0.878261   \n",
       "0    Logistitic Reg ADA CV1  0.915582     0.999885     0.018911   0.939130   \n",
       "0    Logistitic Reg ADA CV2  0.911458     0.999934     0.018364   0.964912   \n",
       "0  Logistitic Reg ADA Tuned  0.911204     0.999871     0.017887   0.932432   \n",
       "0     Random Forest ADA CV0  0.999458     0.999668     0.869159   0.808696   \n",
       "0     Random Forest ADA CV1  0.999413     0.999623     0.865385   0.782609   \n",
       "0     Random Forest ADA CV2  0.999488     0.999668     0.884615   0.807018   \n",
       "\n",
       "     Recall       AUC  \n",
       "0  0.023112  0.511443  \n",
       "0  0.018911  0.509398  \n",
       "0  0.018364  0.509149  \n",
       "0  0.017887  0.508879  \n",
       "0  0.869159  0.934414  \n",
       "0  0.865385  0.932504  \n",
       "0  0.884615  0.942142  "
      ]
     },
     "execution_count": 64,
     "metadata": {
      "tags": []
     },
     "output_type": "execute_result"
    }
   ],
   "source": [
    "results"
   ]
  },
  {
   "cell_type": "code",
   "execution_count": null,
   "metadata": {
    "id": "-63CcIniM3QX"
   },
   "outputs": [],
   "source": [
    "\n",
    "folds = StratifiedKFold(n_splits=3, shuffle=True, random_state=1)\n",
    "\n",
    "param_grid = {\n",
    "    'max_depth': [7,10],\n",
    "    'min_samples_leaf': [100,110],\n",
    "    'min_samples_split': [250, 350],\n",
    "    'n_estimators': [150], \n",
    "    'max_features': [int(round(np.sqrt(X_train_over.shape[1]))),14]\n",
    "}\n",
    "\n",
    "grid_search = GridSearchCV(estimator = rfModel_SMOTE,\n",
    "                   param_grid = param_grid,\n",
    "                   scoring = 'roc_auc',\n",
    "                   cv = folds,\n",
    "                   verbose = True,\n",
    "                   return_train_score=True,\n",
    "                   n_jobs=-1)\n",
    "\n",
    "grid_search.fit(X_train_adasyn,y_train_adasyn)\n",
    "final_model = grid_search.best_estimator_\n",
    "final_model.fit(X_train_adasyn,y_train_adasyn)\n",
    "print(' We can get best roc_auc of',grid_search.best_score_,'using',grid_search.best_params_)\n",
    "y_test_pred = final_model.predict(X_test)\n",
    "\n",
    "model = \"Random Forest ADA Tuned \" \n",
    "\n",
    "results=model_evaluation_metrics(results,model,y_test_pred,y_test)"
   ]
  },
  {
   "cell_type": "code",
   "execution_count": null,
   "metadata": {
    "id": "1tufYvpZM3Qb"
   },
   "outputs": [],
   "source": [
    "results"
   ]
  },
  {
   "cell_type": "markdown",
   "metadata": {},
   "source": [
    "**Summary - Sampled using ADASYN:<br>**\n",
    "    \n",
    "ADASYN(Adaptive Synthesis) technique is the most popular methodology to balance imbalanced datasets.In this approach,new synthetic data points for the minority class are created in such a way that the new datapoints lie vectorially between the existing minority class data points and they have a density distribution associated with them.\n",
    "    \n",
    "After building models on the oversampled data and observing the above evaluation metrics from both \"Logistic Regression\" and \"Random Forest\",<br>\n",
    "Random Forest model yet again proved to be efficient with optimal values of Precision and Recall and an AUC score of 95% \n",
    "\n",
    "Logistic Regression even after tuning ,on the other hand,proved to be inefficient with randomized classification with AUC score around 50% only."
   ]
  },
  {
   "cell_type": "markdown",
   "metadata": {
    "id": "xm9_BJjYM3Qn"
   },
   "source": [
    "### Printing the important features of the best model to understand the dataset"
   ]
  },
  {
   "cell_type": "code",
   "execution_count": null,
   "metadata": {
    "id": "TrOaiXGCM3Qo"
   },
   "outputs": [],
   "source": [
    "var_imp = []\n",
    "for i in clf.feature_importances_:\n",
    "    var_imp.append(i)\n",
    "print('Top var =', var_imp.index(np.sort(clf.feature_importances_)[-1])+1)\n",
    "print('2nd Top var =', var_imp.index(np.sort(clf.feature_importances_)[-2])+1)\n",
    "print('3rd Top var =', var_imp.index(np.sort(clf.feature_importances_)[-3])+1)\n",
    "\n",
    "# Variable on Index-13 and Index-9 seems to be the top 2 variables\n",
    "top_var_index = var_imp.index(np.sort(clf.feature_importances_)[-1])\n",
    "second_top_var_index = var_imp.index(np.sort(clf.feature_importances_)[-2])\n",
    "\n",
    "X_train_1 = X_train.to_numpy()[np.where(y_train==1.0)]\n",
    "X_train_0 = X_train.to_numpy()[np.where(y_train==0.0)]\n",
    "\n",
    "np.random.shuffle(X_train_0)\n",
    "\n",
    "import matplotlib.pyplot as plt\n",
    "%matplotlib inline\n",
    "plt.rcParams['figure.figsize'] = [20, 20]\n",
    "\n",
    "plt.scatter(X_train_1[:, top_var_index], X_train_1[:, second_top_var_index], label='Actual Class-1 Examples')\n",
    "plt.scatter(X_train_0[:X_train_1.shape[0], top_var_index], X_train_0[:X_train_1.shape[0], second_top_var_index],\n",
    "            label='Actual Class-0 Examples')\n",
    "plt.legend()"
   ]
  },
  {
   "cell_type": "markdown",
   "metadata": {
    "id": "eiXlbzMNM3Q6"
   },
   "source": [
    "### Summary"
   ]
  },
  {
   "cell_type": "markdown",
   "metadata": {
    "id": "DzcKt_9KM3Q7"
   },
   "source": [
    "By comparing the evaluation metric results ,we can conclude that the RandomForest classifier when balanced with ADASYN technique is efficient enough and can be used for future predictions with <br>\n",
    "\n",
    "Optimal Recall of 88%           <br>\n",
    "Optimal Precision of 80%           <br>\n",
    "AUC score  of 95%           <br>\n",
    "\n",
    "Since our aim here is to predict the fraudulent transactions ,the current recall ensures that 88% of them are correctly identified and precision of 80% ensures that out of the identified fraudulent cases,80% are actually fraudulent and 20% are be false positives,i.e,non-fraudulent .Banks can consider this margin as the primary goal is not to miss on the fraudulent transactions to the extent possible.This a judicious choice of evaluation metrics should be employed based on the problem at hand.\n",
    "\n",
    "\n",
    "\n"
   ]
  },
  {
   "cell_type": "markdown",
   "metadata": {
    "id": "n3dKK9r_M3Q8"
   },
   "source": [
    "### Recommendations: <br>\n",
    "\n",
    "1.This model can be employed to predict the fraudulent transactions on a daily basis.<br>\n",
    "2.It is advisable,to recalibrate the model every quarterly to ensure that the model is trained on latest patterns in the transacations.<br>\n",
    "3.Equip the Operational staff with required trainings to supplement the decisions of the model and take necessary steps.<br>\n",
    "4.This model should be integration with transactional systems and can be used to generate warnings to the operational teams."
   ]
  },
  {
   "cell_type": "code",
   "execution_count": null,
   "metadata": {
    "id": "4_GtitdSM3Q8"
   },
   "outputs": [],
   "source": []
  }
 ],
 "metadata": {
  "colab": {
   "collapsed_sections": [
    "y9D3_9BdM3NB",
    "KTkwZKEDM3Nf",
    "Fc3gT0nlM3Nr",
    "n3dKK9r_M3Q8"
   ],
   "name": "dn_kk_credcard_fraud_det_starter_code_colab.ipynb",
   "provenance": [],
   "toc_visible": true
  },
  "kernelspec": {
   "display_name": "Python 3",
   "language": "python",
   "name": "python3"
  },
  "language_info": {
   "codemirror_mode": {
    "name": "ipython",
    "version": 3
   },
   "file_extension": ".py",
   "mimetype": "text/x-python",
   "name": "python",
   "nbconvert_exporter": "python",
   "pygments_lexer": "ipython3",
   "version": "3.7.7"
  }
 },
 "nbformat": 4,
 "nbformat_minor": 1
}
